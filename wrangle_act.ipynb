{
 "cells": [
  {
   "cell_type": "code",
   "execution_count": 525,
   "metadata": {},
   "outputs": [],
   "source": [
    "import pandas as pd\n",
    "import numpy as np\n",
    "import os\n",
    "import requests\n",
    "import tweepy\n",
    "from tweepy import OAuthHandler\n",
    "import json\n",
    "import time\n",
    "import matplotlib.pyplot as plt\n",
    "import matplotlib.patches as mpatches\n",
    "from mpl_toolkits.mplot3d import Axes3D"
   ]
  },
  {
   "cell_type": "markdown",
   "metadata": {},
   "source": [
    "## 1. Gathering data"
   ]
  },
  {
   "cell_type": "code",
   "execution_count": 2,
   "metadata": {},
   "outputs": [],
   "source": [
    "# Gather Twitter archive\n",
    "df = pd.read_csv('twitter-archive-enhanced.csv')"
   ]
  },
  {
   "cell_type": "code",
   "execution_count": 3,
   "metadata": {},
   "outputs": [
    {
     "data": {
      "text/html": [
       "<div>\n",
       "<style scoped>\n",
       "    .dataframe tbody tr th:only-of-type {\n",
       "        vertical-align: middle;\n",
       "    }\n",
       "\n",
       "    .dataframe tbody tr th {\n",
       "        vertical-align: top;\n",
       "    }\n",
       "\n",
       "    .dataframe thead th {\n",
       "        text-align: right;\n",
       "    }\n",
       "</style>\n",
       "<table border=\"1\" class=\"dataframe\">\n",
       "  <thead>\n",
       "    <tr style=\"text-align: right;\">\n",
       "      <th></th>\n",
       "      <th>tweet_id</th>\n",
       "      <th>in_reply_to_status_id</th>\n",
       "      <th>in_reply_to_user_id</th>\n",
       "      <th>timestamp</th>\n",
       "      <th>source</th>\n",
       "      <th>text</th>\n",
       "      <th>retweeted_status_id</th>\n",
       "      <th>retweeted_status_user_id</th>\n",
       "      <th>retweeted_status_timestamp</th>\n",
       "      <th>expanded_urls</th>\n",
       "      <th>rating_numerator</th>\n",
       "      <th>rating_denominator</th>\n",
       "      <th>name</th>\n",
       "      <th>doggo</th>\n",
       "      <th>floofer</th>\n",
       "      <th>pupper</th>\n",
       "      <th>puppo</th>\n",
       "    </tr>\n",
       "  </thead>\n",
       "  <tbody>\n",
       "    <tr>\n",
       "      <th>0</th>\n",
       "      <td>892420643555336193</td>\n",
       "      <td>NaN</td>\n",
       "      <td>NaN</td>\n",
       "      <td>2017-08-01 16:23:56 +0000</td>\n",
       "      <td>&lt;a href=\"http://twitter.com/download/iphone\" r...</td>\n",
       "      <td>This is Phineas. He's a mystical boy. Only eve...</td>\n",
       "      <td>NaN</td>\n",
       "      <td>NaN</td>\n",
       "      <td>NaN</td>\n",
       "      <td>https://twitter.com/dog_rates/status/892420643...</td>\n",
       "      <td>13</td>\n",
       "      <td>10</td>\n",
       "      <td>Phineas</td>\n",
       "      <td>None</td>\n",
       "      <td>None</td>\n",
       "      <td>None</td>\n",
       "      <td>None</td>\n",
       "    </tr>\n",
       "    <tr>\n",
       "      <th>1</th>\n",
       "      <td>892177421306343426</td>\n",
       "      <td>NaN</td>\n",
       "      <td>NaN</td>\n",
       "      <td>2017-08-01 00:17:27 +0000</td>\n",
       "      <td>&lt;a href=\"http://twitter.com/download/iphone\" r...</td>\n",
       "      <td>This is Tilly. She's just checking pup on you....</td>\n",
       "      <td>NaN</td>\n",
       "      <td>NaN</td>\n",
       "      <td>NaN</td>\n",
       "      <td>https://twitter.com/dog_rates/status/892177421...</td>\n",
       "      <td>13</td>\n",
       "      <td>10</td>\n",
       "      <td>Tilly</td>\n",
       "      <td>None</td>\n",
       "      <td>None</td>\n",
       "      <td>None</td>\n",
       "      <td>None</td>\n",
       "    </tr>\n",
       "    <tr>\n",
       "      <th>2</th>\n",
       "      <td>891815181378084864</td>\n",
       "      <td>NaN</td>\n",
       "      <td>NaN</td>\n",
       "      <td>2017-07-31 00:18:03 +0000</td>\n",
       "      <td>&lt;a href=\"http://twitter.com/download/iphone\" r...</td>\n",
       "      <td>This is Archie. He is a rare Norwegian Pouncin...</td>\n",
       "      <td>NaN</td>\n",
       "      <td>NaN</td>\n",
       "      <td>NaN</td>\n",
       "      <td>https://twitter.com/dog_rates/status/891815181...</td>\n",
       "      <td>12</td>\n",
       "      <td>10</td>\n",
       "      <td>Archie</td>\n",
       "      <td>None</td>\n",
       "      <td>None</td>\n",
       "      <td>None</td>\n",
       "      <td>None</td>\n",
       "    </tr>\n",
       "    <tr>\n",
       "      <th>3</th>\n",
       "      <td>891689557279858688</td>\n",
       "      <td>NaN</td>\n",
       "      <td>NaN</td>\n",
       "      <td>2017-07-30 15:58:51 +0000</td>\n",
       "      <td>&lt;a href=\"http://twitter.com/download/iphone\" r...</td>\n",
       "      <td>This is Darla. She commenced a snooze mid meal...</td>\n",
       "      <td>NaN</td>\n",
       "      <td>NaN</td>\n",
       "      <td>NaN</td>\n",
       "      <td>https://twitter.com/dog_rates/status/891689557...</td>\n",
       "      <td>13</td>\n",
       "      <td>10</td>\n",
       "      <td>Darla</td>\n",
       "      <td>None</td>\n",
       "      <td>None</td>\n",
       "      <td>None</td>\n",
       "      <td>None</td>\n",
       "    </tr>\n",
       "    <tr>\n",
       "      <th>4</th>\n",
       "      <td>891327558926688256</td>\n",
       "      <td>NaN</td>\n",
       "      <td>NaN</td>\n",
       "      <td>2017-07-29 16:00:24 +0000</td>\n",
       "      <td>&lt;a href=\"http://twitter.com/download/iphone\" r...</td>\n",
       "      <td>This is Franklin. He would like you to stop ca...</td>\n",
       "      <td>NaN</td>\n",
       "      <td>NaN</td>\n",
       "      <td>NaN</td>\n",
       "      <td>https://twitter.com/dog_rates/status/891327558...</td>\n",
       "      <td>12</td>\n",
       "      <td>10</td>\n",
       "      <td>Franklin</td>\n",
       "      <td>None</td>\n",
       "      <td>None</td>\n",
       "      <td>None</td>\n",
       "      <td>None</td>\n",
       "    </tr>\n",
       "  </tbody>\n",
       "</table>\n",
       "</div>"
      ],
      "text/plain": [
       "             tweet_id  in_reply_to_status_id  in_reply_to_user_id  \\\n",
       "0  892420643555336193                    NaN                  NaN   \n",
       "1  892177421306343426                    NaN                  NaN   \n",
       "2  891815181378084864                    NaN                  NaN   \n",
       "3  891689557279858688                    NaN                  NaN   \n",
       "4  891327558926688256                    NaN                  NaN   \n",
       "\n",
       "                   timestamp  \\\n",
       "0  2017-08-01 16:23:56 +0000   \n",
       "1  2017-08-01 00:17:27 +0000   \n",
       "2  2017-07-31 00:18:03 +0000   \n",
       "3  2017-07-30 15:58:51 +0000   \n",
       "4  2017-07-29 16:00:24 +0000   \n",
       "\n",
       "                                              source  \\\n",
       "0  <a href=\"http://twitter.com/download/iphone\" r...   \n",
       "1  <a href=\"http://twitter.com/download/iphone\" r...   \n",
       "2  <a href=\"http://twitter.com/download/iphone\" r...   \n",
       "3  <a href=\"http://twitter.com/download/iphone\" r...   \n",
       "4  <a href=\"http://twitter.com/download/iphone\" r...   \n",
       "\n",
       "                                                text  retweeted_status_id  \\\n",
       "0  This is Phineas. He's a mystical boy. Only eve...                  NaN   \n",
       "1  This is Tilly. She's just checking pup on you....                  NaN   \n",
       "2  This is Archie. He is a rare Norwegian Pouncin...                  NaN   \n",
       "3  This is Darla. She commenced a snooze mid meal...                  NaN   \n",
       "4  This is Franklin. He would like you to stop ca...                  NaN   \n",
       "\n",
       "   retweeted_status_user_id retweeted_status_timestamp  \\\n",
       "0                       NaN                        NaN   \n",
       "1                       NaN                        NaN   \n",
       "2                       NaN                        NaN   \n",
       "3                       NaN                        NaN   \n",
       "4                       NaN                        NaN   \n",
       "\n",
       "                                       expanded_urls  rating_numerator  \\\n",
       "0  https://twitter.com/dog_rates/status/892420643...                13   \n",
       "1  https://twitter.com/dog_rates/status/892177421...                13   \n",
       "2  https://twitter.com/dog_rates/status/891815181...                12   \n",
       "3  https://twitter.com/dog_rates/status/891689557...                13   \n",
       "4  https://twitter.com/dog_rates/status/891327558...                12   \n",
       "\n",
       "   rating_denominator      name doggo floofer pupper puppo  \n",
       "0                  10   Phineas  None    None   None  None  \n",
       "1                  10     Tilly  None    None   None  None  \n",
       "2                  10    Archie  None    None   None  None  \n",
       "3                  10     Darla  None    None   None  None  \n",
       "4                  10  Franklin  None    None   None  None  "
      ]
     },
     "execution_count": 3,
     "metadata": {},
     "output_type": "execute_result"
    }
   ],
   "source": [
    "df.head()"
   ]
  },
  {
   "cell_type": "code",
   "execution_count": 4,
   "metadata": {},
   "outputs": [
    {
     "name": "stdout",
     "output_type": "stream",
     "text": [
      "<class 'pandas.core.frame.DataFrame'>\n",
      "RangeIndex: 2356 entries, 0 to 2355\n",
      "Data columns (total 17 columns):\n",
      "tweet_id                      2356 non-null int64\n",
      "in_reply_to_status_id         78 non-null float64\n",
      "in_reply_to_user_id           78 non-null float64\n",
      "timestamp                     2356 non-null object\n",
      "source                        2356 non-null object\n",
      "text                          2356 non-null object\n",
      "retweeted_status_id           181 non-null float64\n",
      "retweeted_status_user_id      181 non-null float64\n",
      "retweeted_status_timestamp    181 non-null object\n",
      "expanded_urls                 2297 non-null object\n",
      "rating_numerator              2356 non-null int64\n",
      "rating_denominator            2356 non-null int64\n",
      "name                          2356 non-null object\n",
      "doggo                         2356 non-null object\n",
      "floofer                       2356 non-null object\n",
      "pupper                        2356 non-null object\n",
      "puppo                         2356 non-null object\n",
      "dtypes: float64(4), int64(3), object(10)\n",
      "memory usage: 313.0+ KB\n"
     ]
    }
   ],
   "source": [
    "df.info()"
   ]
  },
  {
   "cell_type": "code",
   "execution_count": 5,
   "metadata": {},
   "outputs": [],
   "source": [
    "# Gather Image predictions\n",
    "# Downloading the tweet image predictions\n",
    "folder_name = 'image_predictions'\n",
    "if not os.path.exists(folder_name):\n",
    "    os.makedirs(folder_name)\n",
    "\n",
    "url = 'https://d17h27t6h515a5.cloudfront.net/topher/2017/August/599fd2ad_image-predictions/image-predictions.tsv'\n",
    "response = requests.get(url)\n",
    "\n",
    "with open(os.path.join(folder_name,\n",
    "                      url.split('/')[-1]), mode='wb') as file:\n",
    "          file.write(response.content)"
   ]
  },
  {
   "cell_type": "code",
   "execution_count": 6,
   "metadata": {},
   "outputs": [],
   "source": [
    "img_prdt = pd.read_csv('image-predictions.tsv', sep='\\t')"
   ]
  },
  {
   "cell_type": "code",
   "execution_count": 7,
   "metadata": {},
   "outputs": [
    {
     "data": {
      "text/html": [
       "<div>\n",
       "<style scoped>\n",
       "    .dataframe tbody tr th:only-of-type {\n",
       "        vertical-align: middle;\n",
       "    }\n",
       "\n",
       "    .dataframe tbody tr th {\n",
       "        vertical-align: top;\n",
       "    }\n",
       "\n",
       "    .dataframe thead th {\n",
       "        text-align: right;\n",
       "    }\n",
       "</style>\n",
       "<table border=\"1\" class=\"dataframe\">\n",
       "  <thead>\n",
       "    <tr style=\"text-align: right;\">\n",
       "      <th></th>\n",
       "      <th>tweet_id</th>\n",
       "      <th>jpg_url</th>\n",
       "      <th>img_num</th>\n",
       "      <th>p1</th>\n",
       "      <th>p1_conf</th>\n",
       "      <th>p1_dog</th>\n",
       "      <th>p2</th>\n",
       "      <th>p2_conf</th>\n",
       "      <th>p2_dog</th>\n",
       "      <th>p3</th>\n",
       "      <th>p3_conf</th>\n",
       "      <th>p3_dog</th>\n",
       "    </tr>\n",
       "  </thead>\n",
       "  <tbody>\n",
       "    <tr>\n",
       "      <th>0</th>\n",
       "      <td>666020888022790149</td>\n",
       "      <td>https://pbs.twimg.com/media/CT4udn0WwAA0aMy.jpg</td>\n",
       "      <td>1</td>\n",
       "      <td>Welsh_springer_spaniel</td>\n",
       "      <td>0.465074</td>\n",
       "      <td>True</td>\n",
       "      <td>collie</td>\n",
       "      <td>0.156665</td>\n",
       "      <td>True</td>\n",
       "      <td>Shetland_sheepdog</td>\n",
       "      <td>0.061428</td>\n",
       "      <td>True</td>\n",
       "    </tr>\n",
       "    <tr>\n",
       "      <th>1</th>\n",
       "      <td>666029285002620928</td>\n",
       "      <td>https://pbs.twimg.com/media/CT42GRgUYAA5iDo.jpg</td>\n",
       "      <td>1</td>\n",
       "      <td>redbone</td>\n",
       "      <td>0.506826</td>\n",
       "      <td>True</td>\n",
       "      <td>miniature_pinscher</td>\n",
       "      <td>0.074192</td>\n",
       "      <td>True</td>\n",
       "      <td>Rhodesian_ridgeback</td>\n",
       "      <td>0.072010</td>\n",
       "      <td>True</td>\n",
       "    </tr>\n",
       "    <tr>\n",
       "      <th>2</th>\n",
       "      <td>666033412701032449</td>\n",
       "      <td>https://pbs.twimg.com/media/CT4521TWwAEvMyu.jpg</td>\n",
       "      <td>1</td>\n",
       "      <td>German_shepherd</td>\n",
       "      <td>0.596461</td>\n",
       "      <td>True</td>\n",
       "      <td>malinois</td>\n",
       "      <td>0.138584</td>\n",
       "      <td>True</td>\n",
       "      <td>bloodhound</td>\n",
       "      <td>0.116197</td>\n",
       "      <td>True</td>\n",
       "    </tr>\n",
       "    <tr>\n",
       "      <th>3</th>\n",
       "      <td>666044226329800704</td>\n",
       "      <td>https://pbs.twimg.com/media/CT5Dr8HUEAA-lEu.jpg</td>\n",
       "      <td>1</td>\n",
       "      <td>Rhodesian_ridgeback</td>\n",
       "      <td>0.408143</td>\n",
       "      <td>True</td>\n",
       "      <td>redbone</td>\n",
       "      <td>0.360687</td>\n",
       "      <td>True</td>\n",
       "      <td>miniature_pinscher</td>\n",
       "      <td>0.222752</td>\n",
       "      <td>True</td>\n",
       "    </tr>\n",
       "    <tr>\n",
       "      <th>4</th>\n",
       "      <td>666049248165822465</td>\n",
       "      <td>https://pbs.twimg.com/media/CT5IQmsXIAAKY4A.jpg</td>\n",
       "      <td>1</td>\n",
       "      <td>miniature_pinscher</td>\n",
       "      <td>0.560311</td>\n",
       "      <td>True</td>\n",
       "      <td>Rottweiler</td>\n",
       "      <td>0.243682</td>\n",
       "      <td>True</td>\n",
       "      <td>Doberman</td>\n",
       "      <td>0.154629</td>\n",
       "      <td>True</td>\n",
       "    </tr>\n",
       "  </tbody>\n",
       "</table>\n",
       "</div>"
      ],
      "text/plain": [
       "             tweet_id                                          jpg_url  \\\n",
       "0  666020888022790149  https://pbs.twimg.com/media/CT4udn0WwAA0aMy.jpg   \n",
       "1  666029285002620928  https://pbs.twimg.com/media/CT42GRgUYAA5iDo.jpg   \n",
       "2  666033412701032449  https://pbs.twimg.com/media/CT4521TWwAEvMyu.jpg   \n",
       "3  666044226329800704  https://pbs.twimg.com/media/CT5Dr8HUEAA-lEu.jpg   \n",
       "4  666049248165822465  https://pbs.twimg.com/media/CT5IQmsXIAAKY4A.jpg   \n",
       "\n",
       "   img_num                      p1   p1_conf  p1_dog                  p2  \\\n",
       "0        1  Welsh_springer_spaniel  0.465074    True              collie   \n",
       "1        1                 redbone  0.506826    True  miniature_pinscher   \n",
       "2        1         German_shepherd  0.596461    True            malinois   \n",
       "3        1     Rhodesian_ridgeback  0.408143    True             redbone   \n",
       "4        1      miniature_pinscher  0.560311    True          Rottweiler   \n",
       "\n",
       "    p2_conf  p2_dog                   p3   p3_conf  p3_dog  \n",
       "0  0.156665    True    Shetland_sheepdog  0.061428    True  \n",
       "1  0.074192    True  Rhodesian_ridgeback  0.072010    True  \n",
       "2  0.138584    True           bloodhound  0.116197    True  \n",
       "3  0.360687    True   miniature_pinscher  0.222752    True  \n",
       "4  0.243682    True             Doberman  0.154629    True  "
      ]
     },
     "execution_count": 7,
     "metadata": {},
     "output_type": "execute_result"
    }
   ],
   "source": [
    "img_prdt.head()"
   ]
  },
  {
   "cell_type": "code",
   "execution_count": 8,
   "metadata": {
    "scrolled": true
   },
   "outputs": [
    {
     "name": "stdout",
     "output_type": "stream",
     "text": [
      "<class 'pandas.core.frame.DataFrame'>\n",
      "RangeIndex: 2075 entries, 0 to 2074\n",
      "Data columns (total 12 columns):\n",
      "tweet_id    2075 non-null int64\n",
      "jpg_url     2075 non-null object\n",
      "img_num     2075 non-null int64\n",
      "p1          2075 non-null object\n",
      "p1_conf     2075 non-null float64\n",
      "p1_dog      2075 non-null bool\n",
      "p2          2075 non-null object\n",
      "p2_conf     2075 non-null float64\n",
      "p2_dog      2075 non-null bool\n",
      "p3          2075 non-null object\n",
      "p3_conf     2075 non-null float64\n",
      "p3_dog      2075 non-null bool\n",
      "dtypes: bool(3), float64(3), int64(2), object(4)\n",
      "memory usage: 152.1+ KB\n"
     ]
    }
   ],
   "source": [
    "img_prdt.info()"
   ]
  },
  {
   "cell_type": "code",
   "execution_count": 9,
   "metadata": {},
   "outputs": [],
   "source": [
    "# Gather tweets from Twitter API\n",
    "consumer_key = ''\n",
    "consumer_secret = ''\n",
    "access_token = ''\n",
    "access_token_secret = ''\n",
    "\n",
    "auth = tweepy.OAuthHandler(consumer_key, consumer_secret)\n",
    "auth.set_access_token(access_token, access_token_secret)\n",
    "\n",
    "api = tweepy.API(auth, parser=tweepy.parsers.JSONParser(), wait_on_rate_limit=True)"
   ]
  },
  {
   "cell_type": "code",
   "execution_count": 12,
   "metadata": {},
   "outputs": [
    {
     "name": "stderr",
     "output_type": "stream",
     "text": [
      "Rate limit reached. Sleeping for: 564\n",
      "Rate limit reached. Sleeping for: 709\n",
      "Rate limit reached. Sleeping for: 713\n"
     ]
    },
    {
     "name": "stdout",
     "output_type": "stream",
     "text": [
      "Executing time: 2579.901099920273\n"
     ]
    }
   ],
   "source": [
    "df_retwt = []\n",
    "exceptions = []\n",
    "\n",
    "start = time.time()\n",
    "\n",
    "for tweet_id in df['tweet_id']:\n",
    "    try:\n",
    "        page = api.get_status(tweet_id, tweet_mode='extended',\n",
    "                             wait_on_rate_limit=True, wait_on_rate_limit_notify=True)\n",
    "        \n",
    "        fvrt_cnt = page['favorite_count']\n",
    "        retwt_cnt = page['retweet_count']\n",
    "        \n",
    "        df_retwt.append({'tweet_id': int(tweet_id),\n",
    "                  'favorites': int(fvrt_cnt),\n",
    "                  'retweets': int(retwt_cnt)})\n",
    "        \n",
    "    except Exception as e:\n",
    "        exceptions.append(tweet_id)\n",
    "\n",
    "end = time.time()\n",
    "print('Executing time:', end-start)"
   ]
  },
  {
   "cell_type": "code",
   "execution_count": 15,
   "metadata": {},
   "outputs": [],
   "source": [
    "df_retwt = pd.DataFrame(df_retwt, columns=['tweet_id', 'favorites','retweets'])"
   ]
  },
  {
   "cell_type": "code",
   "execution_count": 17,
   "metadata": {},
   "outputs": [
    {
     "name": "stdout",
     "output_type": "stream",
     "text": [
      "<class 'pandas.core.frame.DataFrame'>\n",
      "RangeIndex: 2339 entries, 0 to 2338\n",
      "Data columns (total 3 columns):\n",
      "tweet_id     2339 non-null int64\n",
      "favorites    2339 non-null int64\n",
      "retweets     2339 non-null int64\n",
      "dtypes: int64(3)\n",
      "memory usage: 54.9 KB\n"
     ]
    }
   ],
   "source": [
    "df_retwt.info()"
   ]
  },
  {
   "cell_type": "code",
   "execution_count": 18,
   "metadata": {},
   "outputs": [
    {
     "data": {
      "text/html": [
       "<div>\n",
       "<style scoped>\n",
       "    .dataframe tbody tr th:only-of-type {\n",
       "        vertical-align: middle;\n",
       "    }\n",
       "\n",
       "    .dataframe tbody tr th {\n",
       "        vertical-align: top;\n",
       "    }\n",
       "\n",
       "    .dataframe thead th {\n",
       "        text-align: right;\n",
       "    }\n",
       "</style>\n",
       "<table border=\"1\" class=\"dataframe\">\n",
       "  <thead>\n",
       "    <tr style=\"text-align: right;\">\n",
       "      <th></th>\n",
       "      <th>tweet_id</th>\n",
       "      <th>favorites</th>\n",
       "      <th>retweets</th>\n",
       "    </tr>\n",
       "  </thead>\n",
       "  <tbody>\n",
       "    <tr>\n",
       "      <th>0</th>\n",
       "      <td>892420643555336193</td>\n",
       "      <td>38446</td>\n",
       "      <td>8461</td>\n",
       "    </tr>\n",
       "    <tr>\n",
       "      <th>1</th>\n",
       "      <td>892177421306343426</td>\n",
       "      <td>32949</td>\n",
       "      <td>6230</td>\n",
       "    </tr>\n",
       "    <tr>\n",
       "      <th>2</th>\n",
       "      <td>891815181378084864</td>\n",
       "      <td>24821</td>\n",
       "      <td>4130</td>\n",
       "    </tr>\n",
       "    <tr>\n",
       "      <th>3</th>\n",
       "      <td>891689557279858688</td>\n",
       "      <td>41806</td>\n",
       "      <td>8581</td>\n",
       "    </tr>\n",
       "    <tr>\n",
       "      <th>4</th>\n",
       "      <td>891327558926688256</td>\n",
       "      <td>39970</td>\n",
       "      <td>9316</td>\n",
       "    </tr>\n",
       "  </tbody>\n",
       "</table>\n",
       "</div>"
      ],
      "text/plain": [
       "             tweet_id  favorites  retweets\n",
       "0  892420643555336193      38446      8461\n",
       "1  892177421306343426      32949      6230\n",
       "2  891815181378084864      24821      4130\n",
       "3  891689557279858688      41806      8581\n",
       "4  891327558926688256      39970      9316"
      ]
     },
     "execution_count": 18,
     "metadata": {},
     "output_type": "execute_result"
    }
   ],
   "source": [
    "df_retwt.head()"
   ]
  },
  {
   "cell_type": "code",
   "execution_count": 19,
   "metadata": {},
   "outputs": [],
   "source": [
    "# Write this into txt file\n",
    "df_retwt.to_csv('tweet_json.txt', encoding='utf-8')"
   ]
  },
  {
   "cell_type": "code",
   "execution_count": 20,
   "metadata": {},
   "outputs": [],
   "source": [
    "df_twt = pd.read_csv('tweet_json.txt', encoding='utf-8', index_col=0)"
   ]
  },
  {
   "cell_type": "code",
   "execution_count": 21,
   "metadata": {
    "scrolled": true
   },
   "outputs": [
    {
     "data": {
      "text/html": [
       "<div>\n",
       "<style scoped>\n",
       "    .dataframe tbody tr th:only-of-type {\n",
       "        vertical-align: middle;\n",
       "    }\n",
       "\n",
       "    .dataframe tbody tr th {\n",
       "        vertical-align: top;\n",
       "    }\n",
       "\n",
       "    .dataframe thead th {\n",
       "        text-align: right;\n",
       "    }\n",
       "</style>\n",
       "<table border=\"1\" class=\"dataframe\">\n",
       "  <thead>\n",
       "    <tr style=\"text-align: right;\">\n",
       "      <th></th>\n",
       "      <th>tweet_id</th>\n",
       "      <th>favorites</th>\n",
       "      <th>retweets</th>\n",
       "    </tr>\n",
       "  </thead>\n",
       "  <tbody>\n",
       "    <tr>\n",
       "      <th>0</th>\n",
       "      <td>892420643555336193</td>\n",
       "      <td>38446</td>\n",
       "      <td>8461</td>\n",
       "    </tr>\n",
       "    <tr>\n",
       "      <th>1</th>\n",
       "      <td>892177421306343426</td>\n",
       "      <td>32949</td>\n",
       "      <td>6230</td>\n",
       "    </tr>\n",
       "    <tr>\n",
       "      <th>2</th>\n",
       "      <td>891815181378084864</td>\n",
       "      <td>24821</td>\n",
       "      <td>4130</td>\n",
       "    </tr>\n",
       "    <tr>\n",
       "      <th>3</th>\n",
       "      <td>891689557279858688</td>\n",
       "      <td>41806</td>\n",
       "      <td>8581</td>\n",
       "    </tr>\n",
       "    <tr>\n",
       "      <th>4</th>\n",
       "      <td>891327558926688256</td>\n",
       "      <td>39970</td>\n",
       "      <td>9316</td>\n",
       "    </tr>\n",
       "  </tbody>\n",
       "</table>\n",
       "</div>"
      ],
      "text/plain": [
       "             tweet_id  favorites  retweets\n",
       "0  892420643555336193      38446      8461\n",
       "1  892177421306343426      32949      6230\n",
       "2  891815181378084864      24821      4130\n",
       "3  891689557279858688      41806      8581\n",
       "4  891327558926688256      39970      9316"
      ]
     },
     "execution_count": 21,
     "metadata": {},
     "output_type": "execute_result"
    }
   ],
   "source": [
    "df_twt.head()"
   ]
  },
  {
   "cell_type": "markdown",
   "metadata": {},
   "source": [
    "## 2. Assessing data"
   ]
  },
  {
   "cell_type": "code",
   "execution_count": 25,
   "metadata": {
    "scrolled": true
   },
   "outputs": [
    {
     "data": {
      "text/html": [
       "<div>\n",
       "<style scoped>\n",
       "    .dataframe tbody tr th:only-of-type {\n",
       "        vertical-align: middle;\n",
       "    }\n",
       "\n",
       "    .dataframe tbody tr th {\n",
       "        vertical-align: top;\n",
       "    }\n",
       "\n",
       "    .dataframe thead th {\n",
       "        text-align: right;\n",
       "    }\n",
       "</style>\n",
       "<table border=\"1\" class=\"dataframe\">\n",
       "  <thead>\n",
       "    <tr style=\"text-align: right;\">\n",
       "      <th></th>\n",
       "      <th>tweet_id</th>\n",
       "      <th>in_reply_to_status_id</th>\n",
       "      <th>in_reply_to_user_id</th>\n",
       "      <th>retweeted_status_id</th>\n",
       "      <th>retweeted_status_user_id</th>\n",
       "      <th>rating_numerator</th>\n",
       "      <th>rating_denominator</th>\n",
       "    </tr>\n",
       "  </thead>\n",
       "  <tbody>\n",
       "    <tr>\n",
       "      <th>count</th>\n",
       "      <td>2.356000e+03</td>\n",
       "      <td>7.800000e+01</td>\n",
       "      <td>7.800000e+01</td>\n",
       "      <td>1.810000e+02</td>\n",
       "      <td>1.810000e+02</td>\n",
       "      <td>2356.000000</td>\n",
       "      <td>2356.000000</td>\n",
       "    </tr>\n",
       "    <tr>\n",
       "      <th>mean</th>\n",
       "      <td>7.427716e+17</td>\n",
       "      <td>7.455079e+17</td>\n",
       "      <td>2.014171e+16</td>\n",
       "      <td>7.720400e+17</td>\n",
       "      <td>1.241698e+16</td>\n",
       "      <td>13.126486</td>\n",
       "      <td>10.455433</td>\n",
       "    </tr>\n",
       "    <tr>\n",
       "      <th>std</th>\n",
       "      <td>6.856705e+16</td>\n",
       "      <td>7.582492e+16</td>\n",
       "      <td>1.252797e+17</td>\n",
       "      <td>6.236928e+16</td>\n",
       "      <td>9.599254e+16</td>\n",
       "      <td>45.876648</td>\n",
       "      <td>6.745237</td>\n",
       "    </tr>\n",
       "    <tr>\n",
       "      <th>min</th>\n",
       "      <td>6.660209e+17</td>\n",
       "      <td>6.658147e+17</td>\n",
       "      <td>1.185634e+07</td>\n",
       "      <td>6.661041e+17</td>\n",
       "      <td>7.832140e+05</td>\n",
       "      <td>0.000000</td>\n",
       "      <td>0.000000</td>\n",
       "    </tr>\n",
       "    <tr>\n",
       "      <th>25%</th>\n",
       "      <td>6.783989e+17</td>\n",
       "      <td>6.757419e+17</td>\n",
       "      <td>3.086374e+08</td>\n",
       "      <td>7.186315e+17</td>\n",
       "      <td>4.196984e+09</td>\n",
       "      <td>10.000000</td>\n",
       "      <td>10.000000</td>\n",
       "    </tr>\n",
       "    <tr>\n",
       "      <th>50%</th>\n",
       "      <td>7.196279e+17</td>\n",
       "      <td>7.038708e+17</td>\n",
       "      <td>4.196984e+09</td>\n",
       "      <td>7.804657e+17</td>\n",
       "      <td>4.196984e+09</td>\n",
       "      <td>11.000000</td>\n",
       "      <td>10.000000</td>\n",
       "    </tr>\n",
       "    <tr>\n",
       "      <th>75%</th>\n",
       "      <td>7.993373e+17</td>\n",
       "      <td>8.257804e+17</td>\n",
       "      <td>4.196984e+09</td>\n",
       "      <td>8.203146e+17</td>\n",
       "      <td>4.196984e+09</td>\n",
       "      <td>12.000000</td>\n",
       "      <td>10.000000</td>\n",
       "    </tr>\n",
       "    <tr>\n",
       "      <th>max</th>\n",
       "      <td>8.924206e+17</td>\n",
       "      <td>8.862664e+17</td>\n",
       "      <td>8.405479e+17</td>\n",
       "      <td>8.874740e+17</td>\n",
       "      <td>7.874618e+17</td>\n",
       "      <td>1776.000000</td>\n",
       "      <td>170.000000</td>\n",
       "    </tr>\n",
       "  </tbody>\n",
       "</table>\n",
       "</div>"
      ],
      "text/plain": [
       "           tweet_id  in_reply_to_status_id  in_reply_to_user_id  \\\n",
       "count  2.356000e+03           7.800000e+01         7.800000e+01   \n",
       "mean   7.427716e+17           7.455079e+17         2.014171e+16   \n",
       "std    6.856705e+16           7.582492e+16         1.252797e+17   \n",
       "min    6.660209e+17           6.658147e+17         1.185634e+07   \n",
       "25%    6.783989e+17           6.757419e+17         3.086374e+08   \n",
       "50%    7.196279e+17           7.038708e+17         4.196984e+09   \n",
       "75%    7.993373e+17           8.257804e+17         4.196984e+09   \n",
       "max    8.924206e+17           8.862664e+17         8.405479e+17   \n",
       "\n",
       "       retweeted_status_id  retweeted_status_user_id  rating_numerator  \\\n",
       "count         1.810000e+02              1.810000e+02       2356.000000   \n",
       "mean          7.720400e+17              1.241698e+16         13.126486   \n",
       "std           6.236928e+16              9.599254e+16         45.876648   \n",
       "min           6.661041e+17              7.832140e+05          0.000000   \n",
       "25%           7.186315e+17              4.196984e+09         10.000000   \n",
       "50%           7.804657e+17              4.196984e+09         11.000000   \n",
       "75%           8.203146e+17              4.196984e+09         12.000000   \n",
       "max           8.874740e+17              7.874618e+17       1776.000000   \n",
       "\n",
       "       rating_denominator  \n",
       "count         2356.000000  \n",
       "mean            10.455433  \n",
       "std              6.745237  \n",
       "min              0.000000  \n",
       "25%             10.000000  \n",
       "50%             10.000000  \n",
       "75%             10.000000  \n",
       "max            170.000000  "
      ]
     },
     "execution_count": 25,
     "metadata": {},
     "output_type": "execute_result"
    }
   ],
   "source": [
    "df.describe()"
   ]
  },
  {
   "cell_type": "code",
   "execution_count": 24,
   "metadata": {},
   "outputs": [
    {
     "data": {
      "text/html": [
       "<div>\n",
       "<style scoped>\n",
       "    .dataframe tbody tr th:only-of-type {\n",
       "        vertical-align: middle;\n",
       "    }\n",
       "\n",
       "    .dataframe tbody tr th {\n",
       "        vertical-align: top;\n",
       "    }\n",
       "\n",
       "    .dataframe thead th {\n",
       "        text-align: right;\n",
       "    }\n",
       "</style>\n",
       "<table border=\"1\" class=\"dataframe\">\n",
       "  <thead>\n",
       "    <tr style=\"text-align: right;\">\n",
       "      <th></th>\n",
       "      <th>tweet_id</th>\n",
       "      <th>img_num</th>\n",
       "      <th>p1_conf</th>\n",
       "      <th>p2_conf</th>\n",
       "      <th>p3_conf</th>\n",
       "    </tr>\n",
       "  </thead>\n",
       "  <tbody>\n",
       "    <tr>\n",
       "      <th>count</th>\n",
       "      <td>2.075000e+03</td>\n",
       "      <td>2075.000000</td>\n",
       "      <td>2075.000000</td>\n",
       "      <td>2.075000e+03</td>\n",
       "      <td>2.075000e+03</td>\n",
       "    </tr>\n",
       "    <tr>\n",
       "      <th>mean</th>\n",
       "      <td>7.384514e+17</td>\n",
       "      <td>1.203855</td>\n",
       "      <td>0.594548</td>\n",
       "      <td>1.345886e-01</td>\n",
       "      <td>6.032417e-02</td>\n",
       "    </tr>\n",
       "    <tr>\n",
       "      <th>std</th>\n",
       "      <td>6.785203e+16</td>\n",
       "      <td>0.561875</td>\n",
       "      <td>0.271174</td>\n",
       "      <td>1.006657e-01</td>\n",
       "      <td>5.090593e-02</td>\n",
       "    </tr>\n",
       "    <tr>\n",
       "      <th>min</th>\n",
       "      <td>6.660209e+17</td>\n",
       "      <td>1.000000</td>\n",
       "      <td>0.044333</td>\n",
       "      <td>1.011300e-08</td>\n",
       "      <td>1.740170e-10</td>\n",
       "    </tr>\n",
       "    <tr>\n",
       "      <th>25%</th>\n",
       "      <td>6.764835e+17</td>\n",
       "      <td>1.000000</td>\n",
       "      <td>0.364412</td>\n",
       "      <td>5.388625e-02</td>\n",
       "      <td>1.622240e-02</td>\n",
       "    </tr>\n",
       "    <tr>\n",
       "      <th>50%</th>\n",
       "      <td>7.119988e+17</td>\n",
       "      <td>1.000000</td>\n",
       "      <td>0.588230</td>\n",
       "      <td>1.181810e-01</td>\n",
       "      <td>4.944380e-02</td>\n",
       "    </tr>\n",
       "    <tr>\n",
       "      <th>75%</th>\n",
       "      <td>7.932034e+17</td>\n",
       "      <td>1.000000</td>\n",
       "      <td>0.843855</td>\n",
       "      <td>1.955655e-01</td>\n",
       "      <td>9.180755e-02</td>\n",
       "    </tr>\n",
       "    <tr>\n",
       "      <th>max</th>\n",
       "      <td>8.924206e+17</td>\n",
       "      <td>4.000000</td>\n",
       "      <td>1.000000</td>\n",
       "      <td>4.880140e-01</td>\n",
       "      <td>2.734190e-01</td>\n",
       "    </tr>\n",
       "  </tbody>\n",
       "</table>\n",
       "</div>"
      ],
      "text/plain": [
       "           tweet_id      img_num      p1_conf       p2_conf       p3_conf\n",
       "count  2.075000e+03  2075.000000  2075.000000  2.075000e+03  2.075000e+03\n",
       "mean   7.384514e+17     1.203855     0.594548  1.345886e-01  6.032417e-02\n",
       "std    6.785203e+16     0.561875     0.271174  1.006657e-01  5.090593e-02\n",
       "min    6.660209e+17     1.000000     0.044333  1.011300e-08  1.740170e-10\n",
       "25%    6.764835e+17     1.000000     0.364412  5.388625e-02  1.622240e-02\n",
       "50%    7.119988e+17     1.000000     0.588230  1.181810e-01  4.944380e-02\n",
       "75%    7.932034e+17     1.000000     0.843855  1.955655e-01  9.180755e-02\n",
       "max    8.924206e+17     4.000000     1.000000  4.880140e-01  2.734190e-01"
      ]
     },
     "execution_count": 24,
     "metadata": {},
     "output_type": "execute_result"
    }
   ],
   "source": [
    "img_prdt.describe()"
   ]
  },
  {
   "cell_type": "code",
   "execution_count": 26,
   "metadata": {},
   "outputs": [
    {
     "data": {
      "text/html": [
       "<div>\n",
       "<style scoped>\n",
       "    .dataframe tbody tr th:only-of-type {\n",
       "        vertical-align: middle;\n",
       "    }\n",
       "\n",
       "    .dataframe tbody tr th {\n",
       "        vertical-align: top;\n",
       "    }\n",
       "\n",
       "    .dataframe thead th {\n",
       "        text-align: right;\n",
       "    }\n",
       "</style>\n",
       "<table border=\"1\" class=\"dataframe\">\n",
       "  <thead>\n",
       "    <tr style=\"text-align: right;\">\n",
       "      <th></th>\n",
       "      <th>tweet_id</th>\n",
       "      <th>favorites</th>\n",
       "      <th>retweets</th>\n",
       "    </tr>\n",
       "  </thead>\n",
       "  <tbody>\n",
       "    <tr>\n",
       "      <th>count</th>\n",
       "      <td>2.339000e+03</td>\n",
       "      <td>2339.000000</td>\n",
       "      <td>2339.000000</td>\n",
       "    </tr>\n",
       "    <tr>\n",
       "      <th>mean</th>\n",
       "      <td>7.422745e+17</td>\n",
       "      <td>8038.164173</td>\n",
       "      <td>2978.384352</td>\n",
       "    </tr>\n",
       "    <tr>\n",
       "      <th>std</th>\n",
       "      <td>6.837583e+16</td>\n",
       "      <td>12372.513712</td>\n",
       "      <td>4990.097380</td>\n",
       "    </tr>\n",
       "    <tr>\n",
       "      <th>min</th>\n",
       "      <td>6.660209e+17</td>\n",
       "      <td>0.000000</td>\n",
       "      <td>0.000000</td>\n",
       "    </tr>\n",
       "    <tr>\n",
       "      <th>25%</th>\n",
       "      <td>6.783607e+17</td>\n",
       "      <td>1391.000000</td>\n",
       "      <td>598.000000</td>\n",
       "    </tr>\n",
       "    <tr>\n",
       "      <th>50%</th>\n",
       "      <td>7.186315e+17</td>\n",
       "      <td>3505.000000</td>\n",
       "      <td>1390.000000</td>\n",
       "    </tr>\n",
       "    <tr>\n",
       "      <th>75%</th>\n",
       "      <td>7.986999e+17</td>\n",
       "      <td>9870.000000</td>\n",
       "      <td>3477.000000</td>\n",
       "    </tr>\n",
       "    <tr>\n",
       "      <th>max</th>\n",
       "      <td>8.924206e+17</td>\n",
       "      <td>164118.000000</td>\n",
       "      <td>84515.000000</td>\n",
       "    </tr>\n",
       "  </tbody>\n",
       "</table>\n",
       "</div>"
      ],
      "text/plain": [
       "           tweet_id      favorites      retweets\n",
       "count  2.339000e+03    2339.000000   2339.000000\n",
       "mean   7.422745e+17    8038.164173   2978.384352\n",
       "std    6.837583e+16   12372.513712   4990.097380\n",
       "min    6.660209e+17       0.000000      0.000000\n",
       "25%    6.783607e+17    1391.000000    598.000000\n",
       "50%    7.186315e+17    3505.000000   1390.000000\n",
       "75%    7.986999e+17    9870.000000   3477.000000\n",
       "max    8.924206e+17  164118.000000  84515.000000"
      ]
     },
     "execution_count": 26,
     "metadata": {},
     "output_type": "execute_result"
    }
   ],
   "source": [
    "df_twt.describe()"
   ]
  },
  {
   "cell_type": "code",
   "execution_count": 351,
   "metadata": {},
   "outputs": [
    {
     "data": {
      "text/html": [
       "<div>\n",
       "<style scoped>\n",
       "    .dataframe tbody tr th:only-of-type {\n",
       "        vertical-align: middle;\n",
       "    }\n",
       "\n",
       "    .dataframe tbody tr th {\n",
       "        vertical-align: top;\n",
       "    }\n",
       "\n",
       "    .dataframe thead th {\n",
       "        text-align: right;\n",
       "    }\n",
       "</style>\n",
       "<table border=\"1\" class=\"dataframe\">\n",
       "  <thead>\n",
       "    <tr style=\"text-align: right;\">\n",
       "      <th></th>\n",
       "      <th>tweet_id</th>\n",
       "      <th>in_reply_to_status_id</th>\n",
       "      <th>in_reply_to_user_id</th>\n",
       "      <th>timestamp</th>\n",
       "      <th>source</th>\n",
       "      <th>text</th>\n",
       "      <th>retweeted_status_id</th>\n",
       "      <th>retweeted_status_user_id</th>\n",
       "      <th>retweeted_status_timestamp</th>\n",
       "      <th>expanded_urls</th>\n",
       "      <th>rating_numerator</th>\n",
       "      <th>rating_denominator</th>\n",
       "      <th>name</th>\n",
       "      <th>doggo</th>\n",
       "      <th>floofer</th>\n",
       "      <th>pupper</th>\n",
       "      <th>puppo</th>\n",
       "    </tr>\n",
       "  </thead>\n",
       "  <tbody>\n",
       "  </tbody>\n",
       "</table>\n",
       "</div>"
      ],
      "text/plain": [
       "Empty DataFrame\n",
       "Columns: [tweet_id, in_reply_to_status_id, in_reply_to_user_id, timestamp, source, text, retweeted_status_id, retweeted_status_user_id, retweeted_status_timestamp, expanded_urls, rating_numerator, rating_denominator, name, doggo, floofer, pupper, puppo]\n",
       "Index: []"
      ]
     },
     "execution_count": 351,
     "metadata": {},
     "output_type": "execute_result"
    }
   ],
   "source": [
    "df[df['tweet_id'].duplicated()]"
   ]
  },
  {
   "cell_type": "code",
   "execution_count": 352,
   "metadata": {},
   "outputs": [
    {
     "data": {
      "text/html": [
       "<div>\n",
       "<style scoped>\n",
       "    .dataframe tbody tr th:only-of-type {\n",
       "        vertical-align: middle;\n",
       "    }\n",
       "\n",
       "    .dataframe tbody tr th {\n",
       "        vertical-align: top;\n",
       "    }\n",
       "\n",
       "    .dataframe thead th {\n",
       "        text-align: right;\n",
       "    }\n",
       "</style>\n",
       "<table border=\"1\" class=\"dataframe\">\n",
       "  <thead>\n",
       "    <tr style=\"text-align: right;\">\n",
       "      <th></th>\n",
       "      <th>tweet_id</th>\n",
       "      <th>jpg_url</th>\n",
       "      <th>img_num</th>\n",
       "      <th>p1</th>\n",
       "      <th>p1_conf</th>\n",
       "      <th>p1_dog</th>\n",
       "      <th>p2</th>\n",
       "      <th>p2_conf</th>\n",
       "      <th>p2_dog</th>\n",
       "      <th>p3</th>\n",
       "      <th>p3_conf</th>\n",
       "      <th>p3_dog</th>\n",
       "    </tr>\n",
       "  </thead>\n",
       "  <tbody>\n",
       "  </tbody>\n",
       "</table>\n",
       "</div>"
      ],
      "text/plain": [
       "Empty DataFrame\n",
       "Columns: [tweet_id, jpg_url, img_num, p1, p1_conf, p1_dog, p2, p2_conf, p2_dog, p3, p3_conf, p3_dog]\n",
       "Index: []"
      ]
     },
     "execution_count": 352,
     "metadata": {},
     "output_type": "execute_result"
    }
   ],
   "source": [
    "img_prdt[img_prdt['tweet_id'].duplicated()]"
   ]
  },
  {
   "cell_type": "code",
   "execution_count": 353,
   "metadata": {},
   "outputs": [
    {
     "data": {
      "text/html": [
       "<div>\n",
       "<style scoped>\n",
       "    .dataframe tbody tr th:only-of-type {\n",
       "        vertical-align: middle;\n",
       "    }\n",
       "\n",
       "    .dataframe tbody tr th {\n",
       "        vertical-align: top;\n",
       "    }\n",
       "\n",
       "    .dataframe thead th {\n",
       "        text-align: right;\n",
       "    }\n",
       "</style>\n",
       "<table border=\"1\" class=\"dataframe\">\n",
       "  <thead>\n",
       "    <tr style=\"text-align: right;\">\n",
       "      <th></th>\n",
       "      <th>tweet_id</th>\n",
       "      <th>favorites</th>\n",
       "      <th>retweets</th>\n",
       "    </tr>\n",
       "  </thead>\n",
       "  <tbody>\n",
       "  </tbody>\n",
       "</table>\n",
       "</div>"
      ],
      "text/plain": [
       "Empty DataFrame\n",
       "Columns: [tweet_id, favorites, retweets]\n",
       "Index: []"
      ]
     },
     "execution_count": 353,
     "metadata": {},
     "output_type": "execute_result"
    }
   ],
   "source": [
    "df_twt[df_twt['tweet_id'].duplicated()]"
   ]
  },
  {
   "cell_type": "markdown",
   "metadata": {},
   "source": [
    "### Quality\n",
    "- Capitalizing all dog's name, and fix 'None' to Null_value.\n",
    "- The denominator columns cannot have zero value.\n",
    "- The following columns have wrong data types: tweet_id, in_reply_to_status_id, in_reply_to_user_id, timestamp\n",
    "- The following columns don't seem to be necessary as we won't consider the data retweeted: retweeted_status_id, retweeted_status_user_id, and retweeted_status_timestamp.\n",
    "- the favorites and retweets columns' data type are wrong. Should be fixed to an integer type.\n",
    "- The entries don't have pictures should be removed from the dataset.\n",
    "- In df, nulls represented as 'None' in columns 'name', 'doggo', 'floofer', 'pupper','puppo'. After condensing these column into one column, fix 'None' value to Null_value so it can be counted as empty data.\n",
    "- Dog's breed column is needed to be capitalized in the dog prediction dataframe to compare with other columns.(p1, p2, p3)\n",
    "- Wrong data types of 'tweet_id' in the both dataframes, df_clean and breed_prediction.\n"
   ]
  },
  {
   "cell_type": "markdown",
   "metadata": {},
   "source": [
    "### Tidiness\n",
    "- The two dataframes(df, df_twt) can be unified into one on tweet_id.\n",
    "- The doggo, pupper, puppo, and floofer columns can be condensed.\n",
    "- Rating_numerator and denominator should be one variable rating."
   ]
  },
  {
   "cell_type": "markdown",
   "metadata": {},
   "source": [
    "## 3. Cleaning data"
   ]
  },
  {
   "cell_type": "code",
   "execution_count": 324,
   "metadata": {},
   "outputs": [],
   "source": [
    "# Don't forget to copy the dataframes before starting cleaning.\n",
    "df_clean = df.copy()\n",
    "img_prdt_clean = img_prdt.copy()\n",
    "df_twt_clean = df_twt.copy()"
   ]
  },
  {
   "cell_type": "markdown",
   "metadata": {},
   "source": [
    "### Define: The columns 'retweeted_status_id', 'retweeted_status_user_id', 'retweeted_status_timestamp' are not needed."
   ]
  },
  {
   "cell_type": "markdown",
   "metadata": {},
   "source": [
    "#### Code:"
   ]
  },
  {
   "cell_type": "code",
   "execution_count": 325,
   "metadata": {},
   "outputs": [
    {
     "name": "stdout",
     "output_type": "stream",
     "text": [
      "<class 'pandas.core.frame.DataFrame'>\n",
      "RangeIndex: 2356 entries, 0 to 2355\n",
      "Data columns (total 17 columns):\n",
      "tweet_id                      2356 non-null int64\n",
      "in_reply_to_status_id         78 non-null float64\n",
      "in_reply_to_user_id           78 non-null float64\n",
      "timestamp                     2356 non-null object\n",
      "source                        2356 non-null object\n",
      "text                          2356 non-null object\n",
      "retweeted_status_id           181 non-null float64\n",
      "retweeted_status_user_id      181 non-null float64\n",
      "retweeted_status_timestamp    181 non-null object\n",
      "expanded_urls                 2297 non-null object\n",
      "rating_numerator              2356 non-null int64\n",
      "rating_denominator            2356 non-null int64\n",
      "name                          2356 non-null object\n",
      "doggo                         2356 non-null object\n",
      "floofer                       2356 non-null object\n",
      "pupper                        2356 non-null object\n",
      "puppo                         2356 non-null object\n",
      "dtypes: float64(4), int64(3), object(10)\n",
      "memory usage: 313.0+ KB\n"
     ]
    }
   ],
   "source": [
    "df_clean.info()\n",
    "\n",
    "# Drop all columns that relate to retweet.\n",
    "df_clean.drop(['retweeted_status_id','retweeted_status_user_id','retweeted_status_timestamp'], axis=1, inplace=True)"
   ]
  },
  {
   "cell_type": "markdown",
   "metadata": {},
   "source": [
    "#### Test:"
   ]
  },
  {
   "cell_type": "code",
   "execution_count": 326,
   "metadata": {},
   "outputs": [
    {
     "name": "stdout",
     "output_type": "stream",
     "text": [
      "<class 'pandas.core.frame.DataFrame'>\n",
      "RangeIndex: 2356 entries, 0 to 2355\n",
      "Data columns (total 14 columns):\n",
      "tweet_id                 2356 non-null int64\n",
      "in_reply_to_status_id    78 non-null float64\n",
      "in_reply_to_user_id      78 non-null float64\n",
      "timestamp                2356 non-null object\n",
      "source                   2356 non-null object\n",
      "text                     2356 non-null object\n",
      "expanded_urls            2297 non-null object\n",
      "rating_numerator         2356 non-null int64\n",
      "rating_denominator       2356 non-null int64\n",
      "name                     2356 non-null object\n",
      "doggo                    2356 non-null object\n",
      "floofer                  2356 non-null object\n",
      "pupper                   2356 non-null object\n",
      "puppo                    2356 non-null object\n",
      "dtypes: float64(2), int64(3), object(9)\n",
      "memory usage: 257.8+ KB\n"
     ]
    }
   ],
   "source": [
    "df_clean.info()"
   ]
  },
  {
   "cell_type": "markdown",
   "metadata": {},
   "source": [
    "### Define: Condensing dog type(doggo, floofer, pupper, puppo) into a column."
   ]
  },
  {
   "cell_type": "markdown",
   "metadata": {},
   "source": [
    "#### Code:"
   ]
  },
  {
   "cell_type": "code",
   "execution_count": 327,
   "metadata": {
    "scrolled": true
   },
   "outputs": [
    {
     "name": "stdout",
     "output_type": "stream",
     "text": [
      "<class 'pandas.core.frame.DataFrame'>\n",
      "RangeIndex: 2356 entries, 0 to 2355\n",
      "Data columns (total 14 columns):\n",
      "tweet_id                 2356 non-null int64\n",
      "in_reply_to_status_id    78 non-null float64\n",
      "in_reply_to_user_id      78 non-null float64\n",
      "timestamp                2356 non-null object\n",
      "source                   2356 non-null object\n",
      "text                     2356 non-null object\n",
      "expanded_urls            2297 non-null object\n",
      "rating_numerator         2356 non-null int64\n",
      "rating_denominator       2356 non-null int64\n",
      "name                     2356 non-null object\n",
      "doggo                    2356 non-null object\n",
      "floofer                  2356 non-null object\n",
      "pupper                   2356 non-null object\n",
      "puppo                    2356 non-null object\n",
      "dtypes: float64(2), int64(3), object(9)\n",
      "memory usage: 257.8+ KB\n"
     ]
    }
   ],
   "source": [
    "df_clean.info()"
   ]
  },
  {
   "cell_type": "code",
   "execution_count": 328,
   "metadata": {
    "scrolled": true
   },
   "outputs": [
    {
     "name": "stdout",
     "output_type": "stream",
     "text": [
      "pupper          245\n",
      "doggo            83\n",
      "puppo            29\n",
      "doggopupper      12\n",
      "floofer           9\n",
      "doggopuppo        1\n",
      "doggofloofer      1\n",
      "Name: type, dtype: int64\n"
     ]
    }
   ],
   "source": [
    "df_clean['type'] = ''\n",
    "\n",
    "df_clean.loc[df_clean['doggo'] == 'doggo','type'] += 'doggo'\n",
    "df_clean.loc[df_clean['floofer'] == 'floofer','type'] += 'floofer'\n",
    "df_clean.loc[df_clean['pupper'] == 'pupper','type'] += 'pupper'\n",
    "df_clean.loc[df_clean['puppo'] == 'puppo','type'] += 'puppo'\n",
    "\n",
    "df_clean['type'].replace('', np.nan, inplace=True)\n",
    "\n",
    "print(df_clean['type'].value_counts())\n",
    "\n",
    "# Adding comma(,) if it has more than one type.\n",
    "df_clean['type'].replace('doggopupper', 'doggo,pupper', inplace=True)\n",
    "df_clean['type'].replace('doggopuppo', 'doggo,puppo', inplace=True)\n",
    "df_clean['type'].replace('doggofloofer', 'doggo,floofer', inplace=True)\n",
    "\n",
    "# Deleting the 4 columns after combining them.\n",
    "df_clean.drop(['doggo','floofer','pupper','puppo'], axis=1, inplace=True)"
   ]
  },
  {
   "cell_type": "markdown",
   "metadata": {},
   "source": [
    "#### Test:"
   ]
  },
  {
   "cell_type": "code",
   "execution_count": 329,
   "metadata": {
    "scrolled": true
   },
   "outputs": [
    {
     "name": "stdout",
     "output_type": "stream",
     "text": [
      "The number of \"doggo\": 97\n",
      "The number of \"floofer\": 10\n",
      "The number of \"pupper\": 257\n",
      "The number of \"puppo\": 30\n",
      "\n",
      "The numbers of doggy type after combining into a column(type)\n"
     ]
    },
    {
     "data": {
      "text/plain": [
       "pupper           245\n",
       "doggo             83\n",
       "puppo             29\n",
       "doggo,pupper      12\n",
       "floofer            9\n",
       "doggo,puppo        1\n",
       "doggo,floofer      1\n",
       "Name: type, dtype: int64"
      ]
     },
     "execution_count": 329,
     "metadata": {},
     "output_type": "execute_result"
    }
   ],
   "source": [
    "# There are some entries which indiciated their dogs with more than one type.\n",
    "# As a result, there are values such as 'doggo+pupper','doggo+puppo','doggo+floofer' in the type column.\n",
    "\n",
    "print('The number of \"doggo\":', len(df[df['doggo'] == 'doggo']))\n",
    "print('The number of \"floofer\":', len(df[df['floofer'] == 'floofer']))\n",
    "print('The number of \"pupper\":',len(df[df['pupper'] == 'pupper']))\n",
    "print('The number of \"puppo\":', len(df[df['puppo'] == 'puppo']))\n",
    "\n",
    "print('\\nThe numbers of doggy type after combining into a column(type)')\n",
    "df_clean['type'].value_counts()"
   ]
  },
  {
   "cell_type": "markdown",
   "metadata": {},
   "source": [
    "### Define: We only consider the ratings with images. Getting rid of the entries without a value of the column(expanded_urls). "
   ]
  },
  {
   "cell_type": "markdown",
   "metadata": {},
   "source": [
    "#### Code:"
   ]
  },
  {
   "cell_type": "code",
   "execution_count": 330,
   "metadata": {},
   "outputs": [
    {
     "name": "stdout",
     "output_type": "stream",
     "text": [
      "<class 'pandas.core.frame.DataFrame'>\n",
      "RangeIndex: 2356 entries, 0 to 2355\n",
      "Data columns (total 11 columns):\n",
      "tweet_id                 2356 non-null int64\n",
      "in_reply_to_status_id    78 non-null float64\n",
      "in_reply_to_user_id      78 non-null float64\n",
      "timestamp                2356 non-null object\n",
      "source                   2356 non-null object\n",
      "text                     2356 non-null object\n",
      "expanded_urls            2297 non-null object\n",
      "rating_numerator         2356 non-null int64\n",
      "rating_denominator       2356 non-null int64\n",
      "name                     2356 non-null object\n",
      "type                     380 non-null object\n",
      "dtypes: float64(2), int64(3), object(6)\n",
      "memory usage: 202.5+ KB\n"
     ]
    }
   ],
   "source": [
    "df_clean.info()\n",
    "\n",
    "df_clean = df_clean[~df_clean['expanded_urls'].isnull()]"
   ]
  },
  {
   "cell_type": "markdown",
   "metadata": {},
   "source": [
    "#### Test:"
   ]
  },
  {
   "cell_type": "code",
   "execution_count": 331,
   "metadata": {},
   "outputs": [
    {
     "name": "stdout",
     "output_type": "stream",
     "text": [
      "<class 'pandas.core.frame.DataFrame'>\n",
      "Int64Index: 2297 entries, 0 to 2355\n",
      "Data columns (total 11 columns):\n",
      "tweet_id                 2297 non-null int64\n",
      "in_reply_to_status_id    23 non-null float64\n",
      "in_reply_to_user_id      23 non-null float64\n",
      "timestamp                2297 non-null object\n",
      "source                   2297 non-null object\n",
      "text                     2297 non-null object\n",
      "expanded_urls            2297 non-null object\n",
      "rating_numerator         2297 non-null int64\n",
      "rating_denominator       2297 non-null int64\n",
      "name                     2297 non-null object\n",
      "type                     374 non-null object\n",
      "dtypes: float64(2), int64(3), object(6)\n",
      "memory usage: 215.3+ KB\n"
     ]
    }
   ],
   "source": [
    "df_clean.info()"
   ]
  },
  {
   "cell_type": "markdown",
   "metadata": {},
   "source": [
    "### Define: Retweet/favorites data can be joined into the main dataframe on tweet_id. "
   ]
  },
  {
   "cell_type": "markdown",
   "metadata": {},
   "source": [
    "#### Code:"
   ]
  },
  {
   "cell_type": "code",
   "execution_count": 334,
   "metadata": {},
   "outputs": [
    {
     "name": "stdout",
     "output_type": "stream",
     "text": [
      "<class 'pandas.core.frame.DataFrame'>\n",
      "Int64Index: 2297 entries, 0 to 2296\n",
      "Data columns (total 13 columns):\n",
      "tweet_id                 2297 non-null int64\n",
      "in_reply_to_status_id    23 non-null float64\n",
      "in_reply_to_user_id      23 non-null float64\n",
      "timestamp                2297 non-null object\n",
      "source                   2297 non-null object\n",
      "text                     2297 non-null object\n",
      "expanded_urls            2297 non-null object\n",
      "rating_numerator         2297 non-null int64\n",
      "rating_denominator       2297 non-null int64\n",
      "name                     2297 non-null object\n",
      "type                     374 non-null object\n",
      "favorites                2280 non-null float64\n",
      "retweets                 2280 non-null float64\n",
      "dtypes: float64(4), int64(3), object(6)\n",
      "memory usage: 251.2+ KB\n"
     ]
    }
   ],
   "source": [
    "# Join df_clean and df_twt_clean dataframe on tweet_id into a unified dataframe.\n",
    "df_clean = pd.merge(left=df_clean, right=df_twt_clean, how='left')\n",
    "\n",
    "df_clean.info()"
   ]
  },
  {
   "cell_type": "markdown",
   "metadata": {},
   "source": [
    "#### Test:"
   ]
  },
  {
   "cell_type": "code",
   "execution_count": 336,
   "metadata": {},
   "outputs": [
    {
     "name": "stdout",
     "output_type": "stream",
     "text": [
      "<class 'pandas.core.frame.DataFrame'>\n",
      "Int64Index: 2297 entries, 0 to 2296\n",
      "Data columns (total 13 columns):\n",
      "tweet_id                 2297 non-null int64\n",
      "in_reply_to_status_id    23 non-null float64\n",
      "in_reply_to_user_id      23 non-null float64\n",
      "timestamp                2297 non-null object\n",
      "source                   2297 non-null object\n",
      "text                     2297 non-null object\n",
      "expanded_urls            2297 non-null object\n",
      "rating_numerator         2297 non-null int64\n",
      "rating_denominator       2297 non-null int64\n",
      "name                     2297 non-null object\n",
      "type                     374 non-null object\n",
      "favorites                2280 non-null float64\n",
      "retweets                 2280 non-null float64\n",
      "dtypes: float64(4), int64(3), object(6)\n",
      "memory usage: 251.2+ KB\n"
     ]
    }
   ],
   "source": [
    "df_clean.info()"
   ]
  },
  {
   "cell_type": "markdown",
   "metadata": {},
   "source": [
    "### Define: Some favorites and retweets value have Null-value. Find these value by connecting API one more."
   ]
  },
  {
   "cell_type": "markdown",
   "metadata": {},
   "source": [
    "#### Code:"
   ]
  },
  {
   "cell_type": "code",
   "execution_count": 337,
   "metadata": {
    "scrolled": true
   },
   "outputs": [],
   "source": [
    "# Filtering tweet_ids which does not have favorites/retweets value.\n",
    "empty_fav = df_clean[df_clean['favorites'].isnull()]['tweet_id']\n",
    "\n",
    "for get_id in empty_fav:\n",
    "    try:    \n",
    "        page = api.get_status(get_id, tweet_mode='extended')\n",
    "        fvrt_cnt1 = page['favorite_count']\n",
    "        retwt_cnt1 = page['retweet_count']\n",
    "        \n",
    "        # Replace an empty value with the new foundings.\n",
    "        df_clean.loc[df_clean['tweet_id'] == get_id, 'favorites'] = int(fvrt_cnt1)\n",
    "        df_clean.loc[df_clean['tweet_id'] == get_id, 'retweets'] = int(retwt_cnt1)\n",
    "    except:\n",
    "        exceptions.append(get_id)\n"
   ]
  },
  {
   "cell_type": "code",
   "execution_count": 338,
   "metadata": {},
   "outputs": [],
   "source": [
    "# Extract data which has favorites/retweets value.\n",
    "df_clean = df_clean[~df_clean['favorites'].isnull()]"
   ]
  },
  {
   "cell_type": "markdown",
   "metadata": {},
   "source": [
    "#### Test:"
   ]
  },
  {
   "cell_type": "code",
   "execution_count": 339,
   "metadata": {},
   "outputs": [
    {
     "name": "stdout",
     "output_type": "stream",
     "text": [
      "<class 'pandas.core.frame.DataFrame'>\n",
      "Int64Index: 2283 entries, 0 to 2296\n",
      "Data columns (total 13 columns):\n",
      "tweet_id                 2283 non-null int64\n",
      "in_reply_to_status_id    23 non-null float64\n",
      "in_reply_to_user_id      23 non-null float64\n",
      "timestamp                2283 non-null object\n",
      "source                   2283 non-null object\n",
      "text                     2283 non-null object\n",
      "expanded_urls            2283 non-null object\n",
      "rating_numerator         2283 non-null int64\n",
      "rating_denominator       2283 non-null int64\n",
      "name                     2283 non-null object\n",
      "type                     371 non-null object\n",
      "favorites                2283 non-null float64\n",
      "retweets                 2283 non-null float64\n",
      "dtypes: float64(4), int64(3), object(6)\n",
      "memory usage: 249.7+ KB\n"
     ]
    }
   ],
   "source": [
    "df_clean.info()"
   ]
  },
  {
   "cell_type": "markdown",
   "metadata": {},
   "source": [
    "### Define: Data type of favorites and retweets columns seem to be wrong. Should be fixed to an integer not a float."
   ]
  },
  {
   "cell_type": "markdown",
   "metadata": {},
   "source": [
    "#### Code:"
   ]
  },
  {
   "cell_type": "code",
   "execution_count": 340,
   "metadata": {},
   "outputs": [],
   "source": [
    "df_clean['favorites'] = df_clean['favorites'].astype(int)\n",
    "df_clean['retweets'] = df_clean['retweets'].astype(int)"
   ]
  },
  {
   "cell_type": "markdown",
   "metadata": {},
   "source": [
    "#### Test:"
   ]
  },
  {
   "cell_type": "code",
   "execution_count": 341,
   "metadata": {},
   "outputs": [
    {
     "name": "stdout",
     "output_type": "stream",
     "text": [
      "<class 'pandas.core.frame.DataFrame'>\n",
      "Int64Index: 2283 entries, 0 to 2296\n",
      "Data columns (total 13 columns):\n",
      "tweet_id                 2283 non-null int64\n",
      "in_reply_to_status_id    23 non-null float64\n",
      "in_reply_to_user_id      23 non-null float64\n",
      "timestamp                2283 non-null object\n",
      "source                   2283 non-null object\n",
      "text                     2283 non-null object\n",
      "expanded_urls            2283 non-null object\n",
      "rating_numerator         2283 non-null int64\n",
      "rating_denominator       2283 non-null int64\n",
      "name                     2283 non-null object\n",
      "type                     371 non-null object\n",
      "favorites                2283 non-null int64\n",
      "retweets                 2283 non-null int64\n",
      "dtypes: float64(2), int64(5), object(6)\n",
      "memory usage: 249.7+ KB\n"
     ]
    }
   ],
   "source": [
    "df_clean.info()"
   ]
  },
  {
   "cell_type": "markdown",
   "metadata": {},
   "source": [
    "### Define: Wrong data types (in_reply_to_status_id, in_reply_to_user_id, timestamp)"
   ]
  },
  {
   "cell_type": "markdown",
   "metadata": {},
   "source": [
    "#### Code:"
   ]
  },
  {
   "cell_type": "code",
   "execution_count": 342,
   "metadata": {},
   "outputs": [],
   "source": [
    "df_clean['in_reply_to_status_id'] = df_clean['in_reply_to_status_id'].astype(str)\n",
    "df_clean['in_reply_to_user_id'] = df_clean['in_reply_to_user_id'].astype(str)\n",
    "df_clean['timestamp'] = pd.to_datetime(df_clean['timestamp'])\n",
    "\n",
    "# And then replace 'nan' value to Null_value.\n",
    "df_clean['in_reply_to_status_id'] = df_clean['in_reply_to_status_id'].replace('nan', np.nan)\n",
    "df_clean['in_reply_to_user_id'] = df_clean['in_reply_to_user_id'].replace('nan', np.nan)"
   ]
  },
  {
   "cell_type": "markdown",
   "metadata": {},
   "source": [
    "#### Test:"
   ]
  },
  {
   "cell_type": "code",
   "execution_count": 343,
   "metadata": {},
   "outputs": [
    {
     "name": "stdout",
     "output_type": "stream",
     "text": [
      "<class 'pandas.core.frame.DataFrame'>\n",
      "Int64Index: 2283 entries, 0 to 2296\n",
      "Data columns (total 13 columns):\n",
      "tweet_id                 2283 non-null int64\n",
      "in_reply_to_status_id    23 non-null object\n",
      "in_reply_to_user_id      23 non-null object\n",
      "timestamp                2283 non-null datetime64[ns]\n",
      "source                   2283 non-null object\n",
      "text                     2283 non-null object\n",
      "expanded_urls            2283 non-null object\n",
      "rating_numerator         2283 non-null int64\n",
      "rating_denominator       2283 non-null int64\n",
      "name                     2283 non-null object\n",
      "type                     371 non-null object\n",
      "favorites                2283 non-null int64\n",
      "retweets                 2283 non-null int64\n",
      "dtypes: datetime64[ns](1), int64(5), object(7)\n",
      "memory usage: 249.7+ KB\n"
     ]
    }
   ],
   "source": [
    "df_clean.info()"
   ]
  },
  {
   "cell_type": "markdown",
   "metadata": {},
   "source": [
    "### Define: Wrong data types of 'tweet_id' in the both dataframes, df_clean and breed_prediction."
   ]
  },
  {
   "cell_type": "markdown",
   "metadata": {},
   "source": [
    "#### Code:"
   ]
  },
  {
   "cell_type": "code",
   "execution_count": 344,
   "metadata": {},
   "outputs": [],
   "source": [
    "df_clean['tweet_id'] = df_clean['tweet_id'].astype(str)\n",
    "img_prdt_clean['tweet_id'] = img_prdt_clean['tweet_id'].astype(str)"
   ]
  },
  {
   "cell_type": "markdown",
   "metadata": {},
   "source": [
    "#### Test:"
   ]
  },
  {
   "cell_type": "code",
   "execution_count": 345,
   "metadata": {},
   "outputs": [
    {
     "name": "stdout",
     "output_type": "stream",
     "text": [
      "<class 'pandas.core.frame.DataFrame'>\n",
      "Int64Index: 2283 entries, 0 to 2296\n",
      "Data columns (total 13 columns):\n",
      "tweet_id                 2283 non-null object\n",
      "in_reply_to_status_id    23 non-null object\n",
      "in_reply_to_user_id      23 non-null object\n",
      "timestamp                2283 non-null datetime64[ns]\n",
      "source                   2283 non-null object\n",
      "text                     2283 non-null object\n",
      "expanded_urls            2283 non-null object\n",
      "rating_numerator         2283 non-null int64\n",
      "rating_denominator       2283 non-null int64\n",
      "name                     2283 non-null object\n",
      "type                     371 non-null object\n",
      "favorites                2283 non-null int64\n",
      "retweets                 2283 non-null int64\n",
      "dtypes: datetime64[ns](1), int64(4), object(8)\n",
      "memory usage: 249.7+ KB\n",
      "<class 'pandas.core.frame.DataFrame'>\n",
      "RangeIndex: 2075 entries, 0 to 2074\n",
      "Data columns (total 12 columns):\n",
      "tweet_id    2075 non-null object\n",
      "jpg_url     2075 non-null object\n",
      "img_num     2075 non-null int64\n",
      "p1          2075 non-null object\n",
      "p1_conf     2075 non-null float64\n",
      "p1_dog      2075 non-null bool\n",
      "p2          2075 non-null object\n",
      "p2_conf     2075 non-null float64\n",
      "p2_dog      2075 non-null bool\n",
      "p3          2075 non-null object\n",
      "p3_conf     2075 non-null float64\n",
      "p3_dog      2075 non-null bool\n",
      "dtypes: bool(3), float64(3), int64(1), object(5)\n",
      "memory usage: 152.1+ KB\n",
      "None None\n"
     ]
    }
   ],
   "source": [
    "print(df_clean.info(), img_prdt_clean.info())"
   ]
  },
  {
   "cell_type": "markdown",
   "metadata": {},
   "source": [
    "### Define: The denominator value cannot be zero-value. Create a new column 'rating'(=rating_numerator/rating_denominator). Drop the both of the columns(rating_numerator and rating_denominator)"
   ]
  },
  {
   "cell_type": "markdown",
   "metadata": {},
   "source": [
    "#### Code:"
   ]
  },
  {
   "cell_type": "code",
   "execution_count": 346,
   "metadata": {},
   "outputs": [
    {
     "name": "stdout",
     "output_type": "stream",
     "text": [
      "Empty DataFrame\n",
      "Columns: [tweet_id, in_reply_to_status_id, in_reply_to_user_id, timestamp, source, text, expanded_urls, rating_numerator, rating_denominator, name, type, favorites, retweets]\n",
      "Index: []\n"
     ]
    }
   ],
   "source": [
    "# Quick visual check that it has only valid value.\n",
    "print(df_clean[df_clean['rating_denominator']==0])\n",
    "\n",
    "# Adding a new column, 'rating'\n",
    "df_clean['rating'] = df_clean['rating_numerator']/df_clean['rating_denominator']\n",
    "\n",
    "# Dropping the two columns(rating_numerator and rating_denominator)\n",
    "df_clean.drop(['rating_numerator','rating_denominator'], axis=1, inplace=True)"
   ]
  },
  {
   "cell_type": "markdown",
   "metadata": {},
   "source": [
    "#### Test:"
   ]
  },
  {
   "cell_type": "code",
   "execution_count": 347,
   "metadata": {},
   "outputs": [
    {
     "name": "stdout",
     "output_type": "stream",
     "text": [
      "<class 'pandas.core.frame.DataFrame'>\n",
      "Int64Index: 2283 entries, 0 to 2296\n",
      "Data columns (total 12 columns):\n",
      "tweet_id                 2283 non-null object\n",
      "in_reply_to_status_id    23 non-null object\n",
      "in_reply_to_user_id      23 non-null object\n",
      "timestamp                2283 non-null datetime64[ns]\n",
      "source                   2283 non-null object\n",
      "text                     2283 non-null object\n",
      "expanded_urls            2283 non-null object\n",
      "name                     2283 non-null object\n",
      "type                     371 non-null object\n",
      "favorites                2283 non-null int64\n",
      "retweets                 2283 non-null int64\n",
      "rating                   2283 non-null float64\n",
      "dtypes: datetime64[ns](1), float64(1), int64(2), object(8)\n",
      "memory usage: 231.9+ KB\n",
      "None\n",
      "1.200000      546\n",
      "1.100000      461\n",
      "1.000000      457\n",
      "1.300000      333\n",
      "0.900000      155\n",
      "0.800000      102\n",
      "0.700000       52\n",
      "1.400000       48\n",
      "0.500000       36\n",
      "0.600000       32\n",
      "0.300000       19\n",
      "0.400000       15\n",
      "0.200000       10\n",
      "0.100000        5\n",
      "7.500000        2\n",
      "0.000000        2\n",
      "0.818182        1\n",
      "3.428571        1\n",
      "0.636364        1\n",
      "177.600000      1\n",
      "2.600000        1\n",
      "42.000000       1\n",
      "1.500000        1\n",
      "2.700000        1\n",
      "Name: rating, dtype: int64\n"
     ]
    }
   ],
   "source": [
    "print(df_clean.info())\n",
    "print(df_clean['rating'].value_counts())"
   ]
  },
  {
   "cell_type": "markdown",
   "metadata": {},
   "source": [
    "### Define: Capitalizing all dog's name, and fix 'None' to Null_value."
   ]
  },
  {
   "cell_type": "markdown",
   "metadata": {},
   "source": [
    "#### Code:"
   ]
  },
  {
   "cell_type": "code",
   "execution_count": 348,
   "metadata": {},
   "outputs": [],
   "source": [
    "df_clean['name'] = df_clean['name'].str.capitalize()\n",
    "\n",
    "df_clean['name'].replace('None', np.nan, inplace=True)"
   ]
  },
  {
   "cell_type": "markdown",
   "metadata": {},
   "source": [
    "#### Test:"
   ]
  },
  {
   "cell_type": "code",
   "execution_count": 349,
   "metadata": {},
   "outputs": [
    {
     "data": {
      "text/plain": [
       "A             55\n",
       "Oliver        11\n",
       "Cooper        11\n",
       "Lucy          11\n",
       "Charlie       11\n",
       "Lola          10\n",
       "Penny         10\n",
       "Tucker        10\n",
       "Winston        9\n",
       "Bo             9\n",
       "Sadie          8\n",
       "The            8\n",
       "An             7\n",
       "Daisy          7\n",
       "Buddy          7\n",
       "Bailey         7\n",
       "Toby           7\n",
       "Scout          6\n",
       "Dave           6\n",
       "Jack           6\n",
       "Oscar          6\n",
       "Leo            6\n",
       "Koda           6\n",
       "Stanley        6\n",
       "Milo           6\n",
       "Rusty          6\n",
       "Bella          6\n",
       "Jax            6\n",
       "Bentley        5\n",
       "Alfie          5\n",
       "              ..\n",
       "Harrison       1\n",
       "Mack           1\n",
       "Henry          1\n",
       "Acro           1\n",
       "Tess           1\n",
       "Rambo          1\n",
       "Furzey         1\n",
       "Jaycob         1\n",
       "Edgar          1\n",
       "Damon          1\n",
       "Dondon         1\n",
       "Brandonald     1\n",
       "Einstein       1\n",
       "Tommy          1\n",
       "Dallas         1\n",
       "Bobble         1\n",
       "Simba          1\n",
       "Tycho          1\n",
       "Frönq          1\n",
       "Wesley         1\n",
       "Jd             1\n",
       "Joshwa         1\n",
       "Rumble         1\n",
       "Tassy          1\n",
       "Bonaparte      1\n",
       "Kallie         1\n",
       "Sprout         1\n",
       "Tater          1\n",
       "Gin            1\n",
       "Shawwn         1\n",
       "Name: name, Length: 956, dtype: int64"
      ]
     },
     "execution_count": 349,
     "metadata": {},
     "output_type": "execute_result"
    }
   ],
   "source": [
    "df_clean['name'].value_counts()"
   ]
  },
  {
   "cell_type": "markdown",
   "metadata": {},
   "source": [
    "### Define: Dog's breed column is needed to be capitalized in the dog prediction dataframe to compare with other columns.(p1, p2, p3)."
   ]
  },
  {
   "cell_type": "markdown",
   "metadata": {},
   "source": [
    "#### Code:"
   ]
  },
  {
   "cell_type": "code",
   "execution_count": 355,
   "metadata": {},
   "outputs": [],
   "source": [
    "img_prdt_clean['p1'] = img_prdt_clean['p1'].str.capitalize()\n",
    "img_prdt_clean['p2'] = img_prdt_clean['p2'].str.capitalize()\n",
    "img_prdt_clean['p3'] = img_prdt_clean['p3'].str.capitalize()"
   ]
  },
  {
   "cell_type": "markdown",
   "metadata": {},
   "source": [
    "#### Test:"
   ]
  },
  {
   "cell_type": "code",
   "execution_count": 357,
   "metadata": {},
   "outputs": [
    {
     "data": {
      "text/html": [
       "<div>\n",
       "<style scoped>\n",
       "    .dataframe tbody tr th:only-of-type {\n",
       "        vertical-align: middle;\n",
       "    }\n",
       "\n",
       "    .dataframe tbody tr th {\n",
       "        vertical-align: top;\n",
       "    }\n",
       "\n",
       "    .dataframe thead th {\n",
       "        text-align: right;\n",
       "    }\n",
       "</style>\n",
       "<table border=\"1\" class=\"dataframe\">\n",
       "  <thead>\n",
       "    <tr style=\"text-align: right;\">\n",
       "      <th></th>\n",
       "      <th>p1</th>\n",
       "      <th>p2</th>\n",
       "      <th>p3</th>\n",
       "    </tr>\n",
       "  </thead>\n",
       "  <tbody>\n",
       "    <tr>\n",
       "      <th>0</th>\n",
       "      <td>Welsh_springer_spaniel</td>\n",
       "      <td>Collie</td>\n",
       "      <td>Shetland_sheepdog</td>\n",
       "    </tr>\n",
       "    <tr>\n",
       "      <th>1</th>\n",
       "      <td>Redbone</td>\n",
       "      <td>Miniature_pinscher</td>\n",
       "      <td>Rhodesian_ridgeback</td>\n",
       "    </tr>\n",
       "    <tr>\n",
       "      <th>2</th>\n",
       "      <td>German_shepherd</td>\n",
       "      <td>Malinois</td>\n",
       "      <td>Bloodhound</td>\n",
       "    </tr>\n",
       "    <tr>\n",
       "      <th>3</th>\n",
       "      <td>Rhodesian_ridgeback</td>\n",
       "      <td>Redbone</td>\n",
       "      <td>Miniature_pinscher</td>\n",
       "    </tr>\n",
       "    <tr>\n",
       "      <th>4</th>\n",
       "      <td>Miniature_pinscher</td>\n",
       "      <td>Rottweiler</td>\n",
       "      <td>Doberman</td>\n",
       "    </tr>\n",
       "  </tbody>\n",
       "</table>\n",
       "</div>"
      ],
      "text/plain": [
       "                       p1                  p2                   p3\n",
       "0  Welsh_springer_spaniel              Collie    Shetland_sheepdog\n",
       "1                 Redbone  Miniature_pinscher  Rhodesian_ridgeback\n",
       "2         German_shepherd            Malinois           Bloodhound\n",
       "3     Rhodesian_ridgeback             Redbone   Miniature_pinscher\n",
       "4      Miniature_pinscher          Rottweiler             Doberman"
      ]
     },
     "execution_count": 357,
     "metadata": {},
     "output_type": "execute_result"
    }
   ],
   "source": [
    "img_prdt_clean[['p1','p2','p3']].head()"
   ]
  },
  {
   "cell_type": "markdown",
   "metadata": {},
   "source": [
    "### Define: Combining two dataframes into one for the convenience of analyzing and managing data."
   ]
  },
  {
   "cell_type": "markdown",
   "metadata": {},
   "source": [
    "#### Code:"
   ]
  },
  {
   "cell_type": "code",
   "execution_count": 385,
   "metadata": {},
   "outputs": [],
   "source": [
    "df_clean = pd.merge(left=df_clean, right=img_prdt_clean, how='left')"
   ]
  },
  {
   "cell_type": "markdown",
   "metadata": {},
   "source": [
    "#### Test:"
   ]
  },
  {
   "cell_type": "code",
   "execution_count": 386,
   "metadata": {},
   "outputs": [
    {
     "name": "stdout",
     "output_type": "stream",
     "text": [
      "<class 'pandas.core.frame.DataFrame'>\n",
      "Int64Index: 2283 entries, 0 to 2282\n",
      "Data columns (total 23 columns):\n",
      "tweet_id                 2283 non-null object\n",
      "in_reply_to_status_id    23 non-null object\n",
      "in_reply_to_user_id      23 non-null object\n",
      "timestamp                2283 non-null datetime64[ns]\n",
      "source                   2283 non-null object\n",
      "text                     2283 non-null object\n",
      "expanded_urls            2283 non-null object\n",
      "name                     1604 non-null object\n",
      "type                     371 non-null object\n",
      "favorites                2283 non-null int64\n",
      "retweets                 2283 non-null int64\n",
      "rating                   2283 non-null float64\n",
      "jpg_url                  2067 non-null object\n",
      "img_num                  2067 non-null float64\n",
      "p1                       2067 non-null object\n",
      "p1_conf                  2067 non-null float64\n",
      "p1_dog                   2067 non-null object\n",
      "p2                       2067 non-null object\n",
      "p2_conf                  2067 non-null float64\n",
      "p2_dog                   2067 non-null object\n",
      "p3                       2067 non-null object\n",
      "p3_conf                  2067 non-null float64\n",
      "p3_dog                   2067 non-null object\n",
      "dtypes: datetime64[ns](1), float64(5), int64(2), object(15)\n",
      "memory usage: 428.1+ KB\n"
     ]
    }
   ],
   "source": [
    "df_clean.info()"
   ]
  },
  {
   "cell_type": "markdown",
   "metadata": {},
   "source": [
    "### Final Test"
   ]
  },
  {
   "cell_type": "code",
   "execution_count": 387,
   "metadata": {},
   "outputs": [
    {
     "name": "stdout",
     "output_type": "stream",
     "text": [
      "<class 'pandas.core.frame.DataFrame'>\n",
      "Int64Index: 2283 entries, 0 to 2282\n",
      "Data columns (total 23 columns):\n",
      "tweet_id                 2283 non-null object\n",
      "in_reply_to_status_id    23 non-null object\n",
      "in_reply_to_user_id      23 non-null object\n",
      "timestamp                2283 non-null datetime64[ns]\n",
      "source                   2283 non-null object\n",
      "text                     2283 non-null object\n",
      "expanded_urls            2283 non-null object\n",
      "name                     1604 non-null object\n",
      "type                     371 non-null object\n",
      "favorites                2283 non-null int64\n",
      "retweets                 2283 non-null int64\n",
      "rating                   2283 non-null float64\n",
      "jpg_url                  2067 non-null object\n",
      "img_num                  2067 non-null float64\n",
      "p1                       2067 non-null object\n",
      "p1_conf                  2067 non-null float64\n",
      "p1_dog                   2067 non-null object\n",
      "p2                       2067 non-null object\n",
      "p2_conf                  2067 non-null float64\n",
      "p2_dog                   2067 non-null object\n",
      "p3                       2067 non-null object\n",
      "p3_conf                  2067 non-null float64\n",
      "p3_dog                   2067 non-null object\n",
      "dtypes: datetime64[ns](1), float64(5), int64(2), object(15)\n",
      "memory usage: 428.1+ KB\n"
     ]
    }
   ],
   "source": [
    "df_clean.info()"
   ]
  },
  {
   "cell_type": "markdown",
   "metadata": {},
   "source": [
    "### Store Data"
   ]
  },
  {
   "cell_type": "markdown",
   "metadata": {},
   "source": [
    ">  Store the final and clean dataframe into a CSV file, **twitter_archive_master.csv**"
   ]
  },
  {
   "cell_type": "code",
   "execution_count": 388,
   "metadata": {},
   "outputs": [],
   "source": [
    "df_clean.to_csv('twitter_archive_master.csv', index=False)"
   ]
  },
  {
   "cell_type": "markdown",
   "metadata": {},
   "source": [
    "### Visualizations and Analyses"
   ]
  },
  {
   "cell_type": "markdown",
   "metadata": {},
   "source": [
    "- The relation between Doggy type and favorites/retweets\n",
    "- The most common dog breed for a prediction"
   ]
  },
  {
   "cell_type": "code",
   "execution_count": 392,
   "metadata": {},
   "outputs": [],
   "source": [
    "df_final = pd.read_csv('twitter_archive_master.csv')"
   ]
  },
  {
   "cell_type": "code",
   "execution_count": 393,
   "metadata": {},
   "outputs": [
    {
     "name": "stdout",
     "output_type": "stream",
     "text": [
      "<class 'pandas.core.frame.DataFrame'>\n",
      "RangeIndex: 2283 entries, 0 to 2282\n",
      "Data columns (total 23 columns):\n",
      "tweet_id                 2283 non-null int64\n",
      "in_reply_to_status_id    23 non-null float64\n",
      "in_reply_to_user_id      23 non-null float64\n",
      "timestamp                2283 non-null object\n",
      "source                   2283 non-null object\n",
      "text                     2283 non-null object\n",
      "expanded_urls            2283 non-null object\n",
      "name                     1604 non-null object\n",
      "type                     371 non-null object\n",
      "favorites                2283 non-null int64\n",
      "retweets                 2283 non-null int64\n",
      "rating                   2283 non-null float64\n",
      "jpg_url                  2067 non-null object\n",
      "img_num                  2067 non-null float64\n",
      "p1                       2067 non-null object\n",
      "p1_conf                  2067 non-null float64\n",
      "p1_dog                   2067 non-null object\n",
      "p2                       2067 non-null object\n",
      "p2_conf                  2067 non-null float64\n",
      "p2_dog                   2067 non-null object\n",
      "p3                       2067 non-null object\n",
      "p3_conf                  2067 non-null float64\n",
      "p3_dog                   2067 non-null object\n",
      "dtypes: float64(7), int64(3), object(13)\n",
      "memory usage: 410.3+ KB\n"
     ]
    }
   ],
   "source": [
    "df_final.info()"
   ]
  },
  {
   "cell_type": "markdown",
   "metadata": {},
   "source": [
    "### Doggy type in relation to favorites/retweets"
   ]
  },
  {
   "cell_type": "markdown",
   "metadata": {},
   "source": [
    "> I want to research how favorites and retweets are related to each other. In addition, I'd like to investigate how it differs depending on the type of doggy(doggo, pupper, puppo, floofer)"
   ]
  },
  {
   "cell_type": "code",
   "execution_count": 397,
   "metadata": {},
   "outputs": [],
   "source": [
    "d1 = df_final[df_final['type'].notnull()][['type','favorites','retweets']]"
   ]
  },
  {
   "cell_type": "code",
   "execution_count": 490,
   "metadata": {},
   "outputs": [
    {
     "name": "stdout",
     "output_type": "stream",
     "text": [
      "The average number of all favorites: 8198\n",
      "The average number of all retweetes: 3047\n"
     ]
    }
   ],
   "source": [
    "mean_all_f = df_final['favorites'].mean()\n",
    "mean_all_r = df_final['retweets'].mean()\n",
    "print(\"The average number of all favorites:\",int(round(mean_all_f)))\n",
    "print(\"The average number of all retweetes:\",int(round(mean_all_r)))"
   ]
  },
  {
   "cell_type": "code",
   "execution_count": 488,
   "metadata": {},
   "outputs": [
    {
     "name": "stdout",
     "output_type": "stream",
     "text": [
      "The average number of favorites: 10005\n",
      "The average number of retweetes: 4053\n"
     ]
    }
   ],
   "source": [
    "mean_of_f = d1['favorites'].mean()\n",
    "mean_of_r = d1['retweets'].mean()\n",
    "print(\"The average number of favorites:\",int(round(mean_of_f)))\n",
    "print(\"The average number of retweetes:\",int(round(mean_of_r)))"
   ]
  },
  {
   "cell_type": "code",
   "execution_count": 408,
   "metadata": {},
   "outputs": [
    {
     "data": {
      "text/html": [
       "<div>\n",
       "<style scoped>\n",
       "    .dataframe tbody tr th:only-of-type {\n",
       "        vertical-align: middle;\n",
       "    }\n",
       "\n",
       "    .dataframe tbody tr th {\n",
       "        vertical-align: top;\n",
       "    }\n",
       "\n",
       "    .dataframe thead th {\n",
       "        text-align: right;\n",
       "    }\n",
       "</style>\n",
       "<table border=\"1\" class=\"dataframe\">\n",
       "  <thead>\n",
       "    <tr style=\"text-align: right;\">\n",
       "      <th></th>\n",
       "      <th>favorites</th>\n",
       "      <th>retweets</th>\n",
       "    </tr>\n",
       "    <tr>\n",
       "      <th>type</th>\n",
       "      <th></th>\n",
       "      <th></th>\n",
       "    </tr>\n",
       "  </thead>\n",
       "  <tbody>\n",
       "    <tr>\n",
       "      <th>doggo</th>\n",
       "      <td>17121.253165</td>\n",
       "      <td>7202.025316</td>\n",
       "    </tr>\n",
       "    <tr>\n",
       "      <th>doggo,floofer</th>\n",
       "      <td>16700.000000</td>\n",
       "      <td>3314.000000</td>\n",
       "    </tr>\n",
       "    <tr>\n",
       "      <th>doggo,pupper</th>\n",
       "      <td>10089.416667</td>\n",
       "      <td>4945.083333</td>\n",
       "    </tr>\n",
       "    <tr>\n",
       "      <th>doggo,puppo</th>\n",
       "      <td>46548.000000</td>\n",
       "      <td>18509.000000</td>\n",
       "    </tr>\n",
       "    <tr>\n",
       "      <th>floofer</th>\n",
       "      <td>10731.888889</td>\n",
       "      <td>3978.777778</td>\n",
       "    </tr>\n",
       "    <tr>\n",
       "      <th>pupper</th>\n",
       "      <td>6522.925311</td>\n",
       "      <td>2669.589212</td>\n",
       "    </tr>\n",
       "    <tr>\n",
       "      <th>puppo</th>\n",
       "      <td>18084.678571</td>\n",
       "      <td>6233.250000</td>\n",
       "    </tr>\n",
       "  </tbody>\n",
       "</table>\n",
       "</div>"
      ],
      "text/plain": [
       "                  favorites      retweets\n",
       "type                                     \n",
       "doggo          17121.253165   7202.025316\n",
       "doggo,floofer  16700.000000   3314.000000\n",
       "doggo,pupper   10089.416667   4945.083333\n",
       "doggo,puppo    46548.000000  18509.000000\n",
       "floofer        10731.888889   3978.777778\n",
       "pupper          6522.925311   2669.589212\n",
       "puppo          18084.678571   6233.250000"
      ]
     },
     "execution_count": 408,
     "metadata": {},
     "output_type": "execute_result"
    }
   ],
   "source": [
    "d1.groupby(by='type').mean()"
   ]
  },
  {
   "cell_type": "code",
   "execution_count": 514,
   "metadata": {},
   "outputs": [
    {
     "data": {
      "image/png": "[encoded data removed]",
      "text/plain": [
       "<matplotlib.figure.Figure at 0x1226f3a58>"
      ]
     },
     "metadata": {},
     "output_type": "display_data"
    }
   ],
   "source": [
    "fig1 = plt.figure(figsize=(14,10))\n",
    "ax1=fig1.add_subplot(111,xlim=(min(d1['favorites']), max(d1['favorites'])),\n",
    "                     ylim=(min(d1['retweets']), max(d1['retweets'])))\n",
    "\n",
    "doggo = d1[d1['type']=='doggo']\n",
    "floofer = d1[d1['type']=='floofer']\n",
    "pupper = d1[d1['type']=='pupper']\n",
    "puppo = d1[d1['type']=='puppo']\n",
    "\n",
    "ax1.scatter(x=doggo['favorites'], y=doggo['retweets'],\n",
    "           color='blue', alpha=0.8)\n",
    "ax1.scatter(x=floofer['favorites'], y=floofer['retweets'],\n",
    "           color='red', alpha=0.5)\n",
    "ax1.scatter(x=pupper['favorites'], y=pupper['retweets'],\n",
    "           color='orange', alpha=0.5)\n",
    "ax1.scatter(x=puppo['favorites'], y=puppo['retweets'],\n",
    "           color='green', alpha=0.5)\n",
    "\n",
    "ax1.set_xlabel('the number of favorites')\n",
    "ax1.set_ylabel('the number of retweets')\n",
    "ax1.set_title('The relation between doggy type and favorites/retweets')\n",
    "\n",
    "# Setting for legend\n",
    "doggos = mpatches.Patch(label='doggo', color='blue')\n",
    "floofers = mpatches.Patch(label='floofer', color='red')\n",
    "puppers = mpatches.Patch(label='pupper', color='orange')\n",
    "puppos = mpatches.Patch(label='puppo', color='green')\n",
    "plt.legend(handles=[doggos, floofers, puppers, puppos])\n",
    "\n",
    "# Draw lines of the average number of favorites and retweets\n",
    "ax1.axhline(y = mean_of_r, linestyle='--', color='purple')\n",
    "ax1.axvline(x = mean_of_f, linestyle='--', color='purple')\n",
    "ax1.axhline(y = mean_all_r, linestyle='-', color='grey')\n",
    "ax1.axvline(x = mean_all_f, linestyle='-', color='grey')\n",
    "\n",
    "plt.show()"
   ]
  },
  {
   "cell_type": "markdown",
   "metadata": {},
   "source": [
    "I plotted a scatterplot of all data (there are only 371 entries with doggy type data) with the averages number of favorites and retweets.\n",
    "\n",
    "The average number of favorites and retweets is higher if the entry has the information of doggy type than the others which do not have.\n",
    "> - purple dotted line: the averages of data which has doggy type information.\n",
    "> - grey solid line: the averages of all data\n",
    "\n",
    "There is a linear relationship between favorites and retweets. However, there tends to be 2.5 times as many favorites as retweets. In addition, there are some data retweeted with no favorites received, even though there is no case the other way around."
   ]
  },
  {
   "cell_type": "code",
   "execution_count": 508,
   "metadata": {},
   "outputs": [
    {
     "data": {
      "image/png": "[encoded data removed]",
      "text/plain": [
       "<matplotlib.figure.Figure at 0x1291ae908>"
      ]
     },
     "metadata": {},
     "output_type": "display_data"
    }
   ],
   "source": [
    "# Zoom in the area where the data is gathered densely.\n",
    "fig = plt.figure(figsize=(10,8))\n",
    "ax=fig.add_subplot(111, xlim=(0,50000), ylim=(0,20000))\n",
    "\n",
    "ax.scatter(x=doggo['favorites'], y=doggo['retweets'],\n",
    "           color='blue', alpha=0.8)\n",
    "ax.scatter(x=floofer['favorites'], y=floofer['retweets'],\n",
    "           color='red', alpha=0.5)\n",
    "ax.scatter(x=pupper['favorites'], y=pupper['retweets'],\n",
    "           color='orange', alpha=0.5)\n",
    "ax.scatter(x=puppo['favorites'], y=puppo['retweets'],\n",
    "           color='green', alpha=0.5)\n",
    "\n",
    "ax.set_xlabel('the number of favorites')\n",
    "ax.set_ylabel('the number of retweets')\n",
    "ax.set_title('The relation between doggy type and favorites/retweets')\n",
    "\n",
    "# Setting for legend\n",
    "plt.legend(handles=[doggos, floofers, puppers, puppos])\n",
    "\n",
    "# Draw lines of the average number of favorites and retweets\n",
    "ax.axhline(y = mean_of_r, linestyle='--', color='purple')\n",
    "ax.axvline(x = mean_of_f, linestyle='--', color='purple')\n",
    "ax.axhline(y = mean_all_r, linestyle='-', color='grey')\n",
    "ax.axvline(x = mean_all_f, linestyle='-', color='grey')\n",
    "\n",
    "plt.show()"
   ]
  },
  {
   "cell_type": "markdown",
   "metadata": {},
   "source": [
    "- 'pupper' tends to receive less favorites and retweets as you can see orange dots are highly dense under the average bars.\n",
    "- 'doggo' is the most popular among other doggy types many of blue dots are appeared in the upper part of the averages."
   ]
  },
  {
   "cell_type": "markdown",
   "metadata": {},
   "source": [
    "### The relation between rating and favorites/retweets"
   ]
  },
  {
   "cell_type": "markdown",
   "metadata": {},
   "source": [
    "> Then, how we can anticipate the ratings and is there any correlation with favorites and retweets?"
   ]
  },
  {
   "cell_type": "code",
   "execution_count": 726,
   "metadata": {},
   "outputs": [],
   "source": [
    "d2 = df_final[['favorites','retweets','rating']]\n",
    "\n",
    "mean_df = pd.DataFrame(d2['rating'].value_counts())\n",
    "mean_df.reset_index(inplace=True)\n",
    "mean_df.columns = ['rating', 'counts']\n",
    "\n",
    "mean_df.sort_values(by='rating', inplace=True)\n",
    "\n",
    "fav = []\n",
    "ret = []\n",
    "for r in mean_df['rating']:\n",
    "    fav.append(d2[d2['rating']==r].mean()[0])\n",
    "    ret.append(d2[d2['rating']==r].mean()[1])\n",
    "    \n",
    "mean_df['favorites'] = fav\n",
    "mean_df['retweets'] = ret\n",
    "mean_df['rating'] = round(mean_df['rating'], 2)\n",
    "mean_df.reset_index(inplace=True)\n",
    "mean_df.drop('index', axis=1, inplace=True)"
   ]
  },
  {
   "cell_type": "code",
   "execution_count": 727,
   "metadata": {},
   "outputs": [
    {
     "data": {
      "image/png": "[encoded data removed]",
      "text/plain": [
       "<matplotlib.figure.Figure at 0x12512e1d0>"
      ]
     },
     "metadata": {},
     "output_type": "display_data"
    },
    {
     "data": {
      "image/png": "[encoded data removed]",
      "text/plain": [
       "<matplotlib.figure.Figure at 0x12aab9518>"
      ]
     },
     "metadata": {},
     "output_type": "display_data"
    },
    {
     "data": {
      "text/html": [
       "<div>\n",
       "<style scoped>\n",
       "    .dataframe tbody tr th:only-of-type {\n",
       "        vertical-align: middle;\n",
       "    }\n",
       "\n",
       "    .dataframe tbody tr th {\n",
       "        vertical-align: top;\n",
       "    }\n",
       "\n",
       "    .dataframe thead th {\n",
       "        text-align: right;\n",
       "    }\n",
       "</style>\n",
       "<table border=\"1\" class=\"dataframe\">\n",
       "  <thead>\n",
       "    <tr style=\"text-align: right;\">\n",
       "      <th></th>\n",
       "      <th>rating</th>\n",
       "      <th>counts</th>\n",
       "      <th>favorites</th>\n",
       "      <th>retweets</th>\n",
       "    </tr>\n",
       "  </thead>\n",
       "  <tbody>\n",
       "    <tr>\n",
       "      <th>0</th>\n",
       "      <td>0.00</td>\n",
       "      <td>2</td>\n",
       "      <td>13460.000000</td>\n",
       "      <td>1811.000000</td>\n",
       "    </tr>\n",
       "    <tr>\n",
       "      <th>1</th>\n",
       "      <td>0.10</td>\n",
       "      <td>5</td>\n",
       "      <td>5510.200000</td>\n",
       "      <td>3726.000000</td>\n",
       "    </tr>\n",
       "    <tr>\n",
       "      <th>2</th>\n",
       "      <td>0.20</td>\n",
       "      <td>10</td>\n",
       "      <td>2391.900000</td>\n",
       "      <td>1326.800000</td>\n",
       "    </tr>\n",
       "    <tr>\n",
       "      <th>3</th>\n",
       "      <td>0.30</td>\n",
       "      <td>19</td>\n",
       "      <td>2313.631579</td>\n",
       "      <td>909.473684</td>\n",
       "    </tr>\n",
       "    <tr>\n",
       "      <th>4</th>\n",
       "      <td>0.40</td>\n",
       "      <td>15</td>\n",
       "      <td>2647.333333</td>\n",
       "      <td>1056.133333</td>\n",
       "    </tr>\n",
       "    <tr>\n",
       "      <th>5</th>\n",
       "      <td>0.50</td>\n",
       "      <td>36</td>\n",
       "      <td>3606.277778</td>\n",
       "      <td>1201.027778</td>\n",
       "    </tr>\n",
       "    <tr>\n",
       "      <th>6</th>\n",
       "      <td>0.60</td>\n",
       "      <td>32</td>\n",
       "      <td>2628.437500</td>\n",
       "      <td>999.281250</td>\n",
       "    </tr>\n",
       "    <tr>\n",
       "      <th>7</th>\n",
       "      <td>0.64</td>\n",
       "      <td>1</td>\n",
       "      <td>39271.000000</td>\n",
       "      <td>18162.000000</td>\n",
       "    </tr>\n",
       "    <tr>\n",
       "      <th>8</th>\n",
       "      <td>0.70</td>\n",
       "      <td>52</td>\n",
       "      <td>2868.480769</td>\n",
       "      <td>1072.096154</td>\n",
       "    </tr>\n",
       "    <tr>\n",
       "      <th>9</th>\n",
       "      <td>0.80</td>\n",
       "      <td>102</td>\n",
       "      <td>2266.568627</td>\n",
       "      <td>977.362745</td>\n",
       "    </tr>\n",
       "    <tr>\n",
       "      <th>10</th>\n",
       "      <td>0.82</td>\n",
       "      <td>1</td>\n",
       "      <td>36802.000000</td>\n",
       "      <td>14436.000000</td>\n",
       "    </tr>\n",
       "    <tr>\n",
       "      <th>11</th>\n",
       "      <td>0.90</td>\n",
       "      <td>155</td>\n",
       "      <td>2355.251613</td>\n",
       "      <td>828.096774</td>\n",
       "    </tr>\n",
       "    <tr>\n",
       "      <th>12</th>\n",
       "      <td>1.00</td>\n",
       "      <td>457</td>\n",
       "      <td>3852.242888</td>\n",
       "      <td>1689.693654</td>\n",
       "    </tr>\n",
       "    <tr>\n",
       "      <th>13</th>\n",
       "      <td>1.10</td>\n",
       "      <td>461</td>\n",
       "      <td>6136.744035</td>\n",
       "      <td>2491.848156</td>\n",
       "    </tr>\n",
       "    <tr>\n",
       "      <th>14</th>\n",
       "      <td>1.20</td>\n",
       "      <td>546</td>\n",
       "      <td>9675.968864</td>\n",
       "      <td>3313.307692</td>\n",
       "    </tr>\n",
       "    <tr>\n",
       "      <th>15</th>\n",
       "      <td>1.30</td>\n",
       "      <td>333</td>\n",
       "      <td>19417.978979</td>\n",
       "      <td>6925.069069</td>\n",
       "    </tr>\n",
       "    <tr>\n",
       "      <th>16</th>\n",
       "      <td>1.40</td>\n",
       "      <td>48</td>\n",
       "      <td>23211.145833</td>\n",
       "      <td>8973.062500</td>\n",
       "    </tr>\n",
       "    <tr>\n",
       "      <th>17</th>\n",
       "      <td>1.50</td>\n",
       "      <td>1</td>\n",
       "      <td>0.000000</td>\n",
       "      <td>36.000000</td>\n",
       "    </tr>\n",
       "    <tr>\n",
       "      <th>18</th>\n",
       "      <td>2.60</td>\n",
       "      <td>1</td>\n",
       "      <td>1814.000000</td>\n",
       "      <td>523.000000</td>\n",
       "    </tr>\n",
       "    <tr>\n",
       "      <th>19</th>\n",
       "      <td>2.70</td>\n",
       "      <td>1</td>\n",
       "      <td>7077.000000</td>\n",
       "      <td>1800.000000</td>\n",
       "    </tr>\n",
       "    <tr>\n",
       "      <th>20</th>\n",
       "      <td>3.43</td>\n",
       "      <td>1</td>\n",
       "      <td>5757.000000</td>\n",
       "      <td>1591.000000</td>\n",
       "    </tr>\n",
       "    <tr>\n",
       "      <th>21</th>\n",
       "      <td>7.50</td>\n",
       "      <td>2</td>\n",
       "      <td>9847.000000</td>\n",
       "      <td>6781.000000</td>\n",
       "    </tr>\n",
       "    <tr>\n",
       "      <th>22</th>\n",
       "      <td>42.00</td>\n",
       "      <td>1</td>\n",
       "      <td>25241.000000</td>\n",
       "      <td>9152.000000</td>\n",
       "    </tr>\n",
       "    <tr>\n",
       "      <th>23</th>\n",
       "      <td>177.60</td>\n",
       "      <td>1</td>\n",
       "      <td>5452.000000</td>\n",
       "      <td>2677.000000</td>\n",
       "    </tr>\n",
       "  </tbody>\n",
       "</table>\n",
       "</div>"
      ],
      "text/plain": [
       "    rating  counts     favorites      retweets\n",
       "0     0.00       2  13460.000000   1811.000000\n",
       "1     0.10       5   5510.200000   3726.000000\n",
       "2     0.20      10   2391.900000   1326.800000\n",
       "3     0.30      19   2313.631579    909.473684\n",
       "4     0.40      15   2647.333333   1056.133333\n",
       "5     0.50      36   3606.277778   1201.027778\n",
       "6     0.60      32   2628.437500    999.281250\n",
       "7     0.64       1  39271.000000  18162.000000\n",
       "8     0.70      52   2868.480769   1072.096154\n",
       "9     0.80     102   2266.568627    977.362745\n",
       "10    0.82       1  36802.000000  14436.000000\n",
       "11    0.90     155   2355.251613    828.096774\n",
       "12    1.00     457   3852.242888   1689.693654\n",
       "13    1.10     461   6136.744035   2491.848156\n",
       "14    1.20     546   9675.968864   3313.307692\n",
       "15    1.30     333  19417.978979   6925.069069\n",
       "16    1.40      48  23211.145833   8973.062500\n",
       "17    1.50       1      0.000000     36.000000\n",
       "18    2.60       1   1814.000000    523.000000\n",
       "19    2.70       1   7077.000000   1800.000000\n",
       "20    3.43       1   5757.000000   1591.000000\n",
       "21    7.50       2   9847.000000   6781.000000\n",
       "22   42.00       1  25241.000000   9152.000000\n",
       "23  177.60       1   5452.000000   2677.000000"
      ]
     },
     "execution_count": 727,
     "metadata": {},
     "output_type": "execute_result"
    }
   ],
   "source": [
    "mean_df[['rating','counts']].plot(x='rating', kind='bar',\n",
    "                title='Rating Distribution', figsize=(12,8), color='orange')\n",
    "\n",
    "mean_df[['rating','favorites','retweets']].plot(x='rating', kind='bar',\n",
    "                title='Rating vs Favorites&Retweets', figsize=(12,8), color=['red','green'])\n",
    "plt.show()\n",
    "\n",
    "mean_df"
   ]
  },
  {
   "cell_type": "markdown",
   "metadata": {},
   "source": [
    "- Most of dogs have rated between 0.9 and 1.3 as you can find it in the first graph.\n",
    "- In the second graph, the number of favorites and retweets has a significant linear correlation in the section between 0.9 and 1.4 ratings.\n",
    "- However, some ratings(0.64, 0.82, 42) have unusual high value as you find it in the second graph. And this is unreliable data, because there was just only one person to mark this rate according to the last table. Therefore, we can consider this is not a representative figure of the user's tendency."
   ]
  },
  {
   "cell_type": "markdown",
   "metadata": {},
   "source": [
    "### Question: Does the accuracy rate for the breed prediction differ depending on the dog breed?"
   ]
  },
  {
   "cell_type": "code",
   "execution_count": 887,
   "metadata": {},
   "outputs": [
    {
     "name": "stdout",
     "output_type": "stream",
     "text": [
      "<class 'pandas.core.frame.DataFrame'>\n",
      "Int64Index: 6201 entries, 0 to 6848\n",
      "Data columns (total 3 columns):\n",
      "breed         6201 non-null object\n",
      "confidence    6201 non-null float64\n",
      "True/False    6201 non-null object\n",
      "dtypes: float64(1), object(2)\n",
      "memory usage: 193.8+ KB\n",
      "None\n",
      "-----------------\n",
      "<class 'pandas.core.frame.DataFrame'>\n",
      "Int64Index: 6201 entries, 0 to 6848\n",
      "Data columns (total 3 columns):\n",
      "breed         6201 non-null object\n",
      "confidence    6201 non-null float64\n",
      "True/False    6201 non-null int64\n",
      "dtypes: float64(1), int64(1), object(1)\n",
      "memory usage: 193.8+ KB\n",
      "None\n"
     ]
    }
   ],
   "source": [
    "# I collected breed prediction data to get a means for each breed.\n",
    "# The accuracy rate for each breed.\n",
    "\n",
    "cols = ['breed','confidence','True/False']\n",
    "\n",
    "d11 = df_final[['p1','p1_conf','p1_dog']]\n",
    "d11.columns = cols\n",
    "d22 = df_final[['p2','p2_conf','p2_dog']]\n",
    "d22.columns = cols\n",
    "d33 = df_final[['p3','p3_conf','p3_dog']]\n",
    "d33.columns = cols\n",
    "\n",
    "df_predict = d11.append(d22, ignore_index=True)\n",
    "df_predict = df_predict.append(d33, ignore_index=True)\n",
    "df_predict = df_predict[df_predict['breed'].notnull()]\n",
    "\n",
    "print(df_predict.info())\n",
    "\n",
    "# Conver 'True/False' value to '1/0' from bool type for calculating easily.\n",
    "df_predict.loc[df_predict['True/False']==True, 'True/False'] = 1\n",
    "df_predict.loc[df_predict['True/False']==False, 'True/False'] = 0\n",
    "\n",
    "print('-----------------')\n",
    "print(df_predict.info())"
   ]
  },
  {
   "cell_type": "code",
   "execution_count": 927,
   "metadata": {},
   "outputs": [
    {
     "name": "stdout",
     "output_type": "stream",
     "text": [
      "The overall accuracy rate is 73.69779067892276 (%)\n"
     ]
    }
   ],
   "source": [
    "# Getting an accuracy rate for predicting dog breeds.\n",
    "total_cnt = len(df_predict)\n",
    "true_cnt = sum(df_predict['True/False'])\n",
    "false_cnt = total_cnt - true_cnt\n",
    "\n",
    "accrcy_rate = true_cnt/total_cnt*100\n",
    "print('The overall accuracy rate is', accrcy_rate,'(%)')\n",
    "\n",
    "# Calculating the accuracy rate for each dog breeds.\n",
    "ac_list = []\n",
    "common_brd = (df_predict['breed'].value_counts()).index\n",
    "for brd in common_brd:\n",
    "    ttl_cnt = df_predict[df_predict['breed'] == brd]['True/False'].count()\n",
    "    tr_cnt = df_predict[df_predict['breed'] == brd]['True/False'].sum()\n",
    "    acrcy = tr_cnt/ttl_cnt*100\n",
    "    ac_list.append(acrcy)\n",
    "    \n",
    "\n",
    "# Filter sub-dataframe only with 15 most common dog breeds.\n",
    "df_grp = df_predict.groupby(by='breed').count()\n",
    "df_grp.sort_values(by='confidence', ascending=False, inplace=True)\n"
   ]
  },
  {
   "cell_type": "code",
   "execution_count": 937,
   "metadata": {},
   "outputs": [
    {
     "name": "stdout",
     "output_type": "stream",
     "text": [
      "The average accuracy of most common 50 breeds is: accuracy    93.982759\n",
      "dtype: float64\n",
      "The average accuracy of the second common 50 breeds is: accuracy    78.0\n",
      "dtype: float64\n",
      "The average accuracy of the next common 100 breeds is: accuracy    25.0\n",
      "dtype: float64\n",
      "The average accuracy of the next common 200 breeds is: accuracy    3.5\n",
      "dtype: float64\n",
      "The average accuracy of the least common 100 breeds is: accuracy    0.0\n",
      "dtype: float64\n"
     ]
    }
   ],
   "source": [
    "df_grp['accuracy'] = ac_list\n",
    "\n",
    "# The average accuracy of 50/50~100/100~200/200~400/400~ breeds:\n",
    "print('The average accuracy of most common 50 breeds is:',df_grp[['accuracy']][:50].mean())\n",
    "print('The average accuracy of the second common 50 breeds is:',df_grp[['accuracy']][50:100].mean())\n",
    "print('The average accuracy of the next common 100 breeds is:',df_grp[['accuracy']][100:200].mean())\n",
    "print('The average accuracy of the next common 200 breeds is:',df_grp[['accuracy']][200:400].mean())\n",
    "print('The average accuracy of the least common 100 breeds is:',df_grp[['accuracy']][400:].mean())\n",
    "# df_grp['accuracy'].value_counts()"
   ]
  },
  {
   "cell_type": "code",
   "execution_count": 897,
   "metadata": {},
   "outputs": [
    {
     "data": {
      "image/png": "[encoded data removed]",
      "text/plain": [
       "<matplotlib.figure.Figure at 0x12cc53e80>"
      ]
     },
     "metadata": {},
     "output_type": "display_data"
    }
   ],
   "source": [
    "# Plotting the 15 most common dog breeds for prediction.\n",
    "\n",
    "df_grp[:15]['confidence'].plot(kind='barh', figsize=(10,10), xlim=(0,300))\n",
    "plt.gca().invert_yaxis()\n",
    "plt.title('Most common top 15 dogs for prediction', size=20)\n",
    "plt.xlabel('The number of prediction', size=15)\n",
    "plt.ylabel('Dog breeds', size=15)\n",
    "\n",
    "plt.show();"
   ]
  },
  {
   "cell_type": "markdown",
   "metadata": {},
   "source": [
    "- Overall, the accuracy rate for predicting dog breeds is about 74% which seems pretty reliable(It can guess the type of dogs correctly 3 cases out of 4.).\n",
    "- There is no strong evidence for explaining whether there's the differentiation of accuracy depending on dog breeds. If a learning system has more data, then becomes more accurate to predict. It doesn't neccessarily mean that a system recognize some specific breeds more precisely. Because the accuraty is 100% for the most of dog breeds of the top 50 common ones. We can assume that the prediction system might be trained with so many data to be correct.\n",
    "- We next plotted the 15 most common dog breeds in a bar chart. We see that according to this chart, the most common dog breed is the golden retriever with almost 300 times."
   ]
  },
  {
   "cell_type": "markdown",
   "metadata": {},
   "source": [
    "### Dog Breed  Popularity"
   ]
  },
  {
   "cell_type": "code",
   "execution_count": null,
   "metadata": {},
   "outputs": [],
   "source": []
  },
  {
   "cell_type": "code",
   "execution_count": 749,
   "metadata": {},
   "outputs": [],
   "source": []
  },
  {
   "cell_type": "code",
   "execution_count": 751,
   "metadata": {},
   "outputs": [],
   "source": []
  },
  {
   "cell_type": "code",
   "execution_count": 754,
   "metadata": {},
   "outputs": [],
   "source": []
  },
  {
   "cell_type": "code",
   "execution_count": 752,
   "metadata": {},
   "outputs": [
    {
     "data": {
      "text/html": [
       "<div>\n",
       "<style scoped>\n",
       "    .dataframe tbody tr th:only-of-type {\n",
       "        vertical-align: middle;\n",
       "    }\n",
       "\n",
       "    .dataframe tbody tr th {\n",
       "        vertical-align: top;\n",
       "    }\n",
       "\n",
       "    .dataframe thead th {\n",
       "        text-align: right;\n",
       "    }\n",
       "</style>\n",
       "<table border=\"1\" class=\"dataframe\">\n",
       "  <thead>\n",
       "    <tr style=\"text-align: right;\">\n",
       "      <th></th>\n",
       "      <th>breed</th>\n",
       "      <th>confidence</th>\n",
       "      <th>True/False</th>\n",
       "    </tr>\n",
       "  </thead>\n",
       "  <tbody>\n",
       "    <tr>\n",
       "      <th>0</th>\n",
       "      <td>Bagel</td>\n",
       "      <td>0.085851</td>\n",
       "      <td>False</td>\n",
       "    </tr>\n",
       "    <tr>\n",
       "      <th>1</th>\n",
       "      <td>Pekinese</td>\n",
       "      <td>0.090647</td>\n",
       "      <td>True</td>\n",
       "    </tr>\n",
       "    <tr>\n",
       "      <th>2</th>\n",
       "      <td>Malamute</td>\n",
       "      <td>0.078253</td>\n",
       "      <td>True</td>\n",
       "    </tr>\n",
       "    <tr>\n",
       "      <th>3</th>\n",
       "      <td>Labrador_retriever</td>\n",
       "      <td>0.168086</td>\n",
       "      <td>True</td>\n",
       "    </tr>\n",
       "    <tr>\n",
       "      <th>4</th>\n",
       "      <td>English_springer</td>\n",
       "      <td>0.225770</td>\n",
       "      <td>True</td>\n",
       "    </tr>\n",
       "    <tr>\n",
       "      <th>5</th>\n",
       "      <td>Irish_terrier</td>\n",
       "      <td>0.116317</td>\n",
       "      <td>True</td>\n",
       "    </tr>\n",
       "    <tr>\n",
       "      <th>6</th>\n",
       "      <td>Border_collie</td>\n",
       "      <td>0.199287</td>\n",
       "      <td>True</td>\n",
       "    </tr>\n",
       "    <tr>\n",
       "      <th>7</th>\n",
       "      <td>Eskimo_dog</td>\n",
       "      <td>0.178406</td>\n",
       "      <td>True</td>\n",
       "    </tr>\n",
       "    <tr>\n",
       "      <th>8</th>\n",
       "      <td>Irish_setter</td>\n",
       "      <td>0.193054</td>\n",
       "      <td>True</td>\n",
       "    </tr>\n",
       "    <tr>\n",
       "      <th>9</th>\n",
       "      <td>Cardigan</td>\n",
       "      <td>0.451038</td>\n",
       "      <td>True</td>\n",
       "    </tr>\n",
       "    <tr>\n",
       "      <th>10</th>\n",
       "      <td>Pomeranian</td>\n",
       "      <td>0.013884</td>\n",
       "      <td>True</td>\n",
       "    </tr>\n",
       "    <tr>\n",
       "      <th>11</th>\n",
       "      <td>Labrador_retriever</td>\n",
       "      <td>0.151317</td>\n",
       "      <td>True</td>\n",
       "    </tr>\n",
       "    <tr>\n",
       "      <th>12</th>\n",
       "      <td>Cardigan</td>\n",
       "      <td>0.027356</td>\n",
       "      <td>True</td>\n",
       "    </tr>\n",
       "    <tr>\n",
       "      <th>13</th>\n",
       "      <td>Boxer</td>\n",
       "      <td>0.002129</td>\n",
       "      <td>True</td>\n",
       "    </tr>\n",
       "    <tr>\n",
       "      <th>14</th>\n",
       "      <td>Labrador_retriever</td>\n",
       "      <td>0.013834</td>\n",
       "      <td>True</td>\n",
       "    </tr>\n",
       "    <tr>\n",
       "      <th>15</th>\n",
       "      <td>Borzoi</td>\n",
       "      <td>0.194742</td>\n",
       "      <td>True</td>\n",
       "    </tr>\n",
       "    <tr>\n",
       "      <th>16</th>\n",
       "      <td>Tibetan_mastiff</td>\n",
       "      <td>0.120184</td>\n",
       "      <td>True</td>\n",
       "    </tr>\n",
       "    <tr>\n",
       "      <th>17</th>\n",
       "      <td>Labrador_retriever</td>\n",
       "      <td>0.184172</td>\n",
       "      <td>True</td>\n",
       "    </tr>\n",
       "    <tr>\n",
       "      <th>18</th>\n",
       "      <td>Eskimo_dog</td>\n",
       "      <td>0.166511</td>\n",
       "      <td>True</td>\n",
       "    </tr>\n",
       "    <tr>\n",
       "      <th>19</th>\n",
       "      <td>Pug</td>\n",
       "      <td>0.000932</td>\n",
       "      <td>True</td>\n",
       "    </tr>\n",
       "    <tr>\n",
       "      <th>20</th>\n",
       "      <td>Redbone</td>\n",
       "      <td>0.087582</td>\n",
       "      <td>True</td>\n",
       "    </tr>\n",
       "    <tr>\n",
       "      <th>21</th>\n",
       "      <td>Tow_truck</td>\n",
       "      <td>0.029175</td>\n",
       "      <td>False</td>\n",
       "    </tr>\n",
       "    <tr>\n",
       "      <th>22</th>\n",
       "      <td>Rhodesian_ridgeback</td>\n",
       "      <td>0.054950</td>\n",
       "      <td>True</td>\n",
       "    </tr>\n",
       "    <tr>\n",
       "      <th>23</th>\n",
       "      <td>Sea_lion</td>\n",
       "      <td>0.275645</td>\n",
       "      <td>False</td>\n",
       "    </tr>\n",
       "    <tr>\n",
       "      <th>24</th>\n",
       "      <td>Eskimo_dog</td>\n",
       "      <td>0.035029</td>\n",
       "      <td>True</td>\n",
       "    </tr>\n",
       "    <tr>\n",
       "      <th>25</th>\n",
       "      <td>Toy_terrier</td>\n",
       "      <td>0.143528</td>\n",
       "      <td>True</td>\n",
       "    </tr>\n",
       "    <tr>\n",
       "      <th>26</th>\n",
       "      <td>Great_pyrenees</td>\n",
       "      <td>0.186136</td>\n",
       "      <td>True</td>\n",
       "    </tr>\n",
       "    <tr>\n",
       "      <th>27</th>\n",
       "      <td>Sports_car</td>\n",
       "      <td>0.139952</td>\n",
       "      <td>False</td>\n",
       "    </tr>\n",
       "    <tr>\n",
       "      <th>28</th>\n",
       "      <td>Chihuahua</td>\n",
       "      <td>0.000361</td>\n",
       "      <td>True</td>\n",
       "    </tr>\n",
       "    <tr>\n",
       "      <th>29</th>\n",
       "      <td>Shower_cap</td>\n",
       "      <td>0.025286</td>\n",
       "      <td>False</td>\n",
       "    </tr>\n",
       "    <tr>\n",
       "      <th>...</th>\n",
       "      <td>...</td>\n",
       "      <td>...</td>\n",
       "      <td>...</td>\n",
       "    </tr>\n",
       "    <tr>\n",
       "      <th>2253</th>\n",
       "      <td>Barracouta</td>\n",
       "      <td>0.271485</td>\n",
       "      <td>False</td>\n",
       "    </tr>\n",
       "    <tr>\n",
       "      <th>2254</th>\n",
       "      <td>Bloodhound</td>\n",
       "      <td>0.244220</td>\n",
       "      <td>True</td>\n",
       "    </tr>\n",
       "    <tr>\n",
       "      <th>2255</th>\n",
       "      <td>Toy_terrier</td>\n",
       "      <td>0.009397</td>\n",
       "      <td>True</td>\n",
       "    </tr>\n",
       "    <tr>\n",
       "      <th>2256</th>\n",
       "      <td>Afghan_hound</td>\n",
       "      <td>0.259551</td>\n",
       "      <td>True</td>\n",
       "    </tr>\n",
       "    <tr>\n",
       "      <th>2257</th>\n",
       "      <td>Skunk</td>\n",
       "      <td>0.002402</td>\n",
       "      <td>False</td>\n",
       "    </tr>\n",
       "    <tr>\n",
       "      <th>2258</th>\n",
       "      <td>Siberian_husky</td>\n",
       "      <td>0.147655</td>\n",
       "      <td>True</td>\n",
       "    </tr>\n",
       "    <tr>\n",
       "      <th>2259</th>\n",
       "      <td>Chesapeake_bay_retriever</td>\n",
       "      <td>0.054787</td>\n",
       "      <td>True</td>\n",
       "    </tr>\n",
       "    <tr>\n",
       "      <th>2260</th>\n",
       "      <td>Newfoundland</td>\n",
       "      <td>0.278407</td>\n",
       "      <td>True</td>\n",
       "    </tr>\n",
       "    <tr>\n",
       "      <th>2261</th>\n",
       "      <td>Otter</td>\n",
       "      <td>0.015250</td>\n",
       "      <td>False</td>\n",
       "    </tr>\n",
       "    <tr>\n",
       "      <th>2262</th>\n",
       "      <td>Toy_poodle</td>\n",
       "      <td>0.063064</td>\n",
       "      <td>True</td>\n",
       "    </tr>\n",
       "    <tr>\n",
       "      <th>2263</th>\n",
       "      <td>Toy_terrier</td>\n",
       "      <td>0.111884</td>\n",
       "      <td>True</td>\n",
       "    </tr>\n",
       "    <tr>\n",
       "      <th>2264</th>\n",
       "      <td>Desk</td>\n",
       "      <td>0.085547</td>\n",
       "      <td>False</td>\n",
       "    </tr>\n",
       "    <tr>\n",
       "      <th>2265</th>\n",
       "      <td>Cock</td>\n",
       "      <td>0.033919</td>\n",
       "      <td>False</td>\n",
       "    </tr>\n",
       "    <tr>\n",
       "      <th>2266</th>\n",
       "      <td>Newfoundland</td>\n",
       "      <td>0.149842</td>\n",
       "      <td>True</td>\n",
       "    </tr>\n",
       "    <tr>\n",
       "      <th>2267</th>\n",
       "      <td>Shih-tzu</td>\n",
       "      <td>0.166192</td>\n",
       "      <td>True</td>\n",
       "    </tr>\n",
       "    <tr>\n",
       "      <th>2268</th>\n",
       "      <td>German_shepherd</td>\n",
       "      <td>0.078260</td>\n",
       "      <td>True</td>\n",
       "    </tr>\n",
       "    <tr>\n",
       "      <th>2269</th>\n",
       "      <td>Bull_mastiff</td>\n",
       "      <td>0.404722</td>\n",
       "      <td>True</td>\n",
       "    </tr>\n",
       "    <tr>\n",
       "      <th>2270</th>\n",
       "      <td>English_foxhound</td>\n",
       "      <td>0.175382</td>\n",
       "      <td>True</td>\n",
       "    </tr>\n",
       "    <tr>\n",
       "      <th>2271</th>\n",
       "      <td>Yorkshire_terrier</td>\n",
       "      <td>0.174201</td>\n",
       "      <td>True</td>\n",
       "    </tr>\n",
       "    <tr>\n",
       "      <th>2272</th>\n",
       "      <td>Tibetan_mastiff</td>\n",
       "      <td>0.093718</td>\n",
       "      <td>True</td>\n",
       "    </tr>\n",
       "    <tr>\n",
       "      <th>2273</th>\n",
       "      <td>Komondor</td>\n",
       "      <td>0.192305</td>\n",
       "      <td>True</td>\n",
       "    </tr>\n",
       "    <tr>\n",
       "      <th>2274</th>\n",
       "      <td>Shopping_basket</td>\n",
       "      <td>0.014594</td>\n",
       "      <td>False</td>\n",
       "    </tr>\n",
       "    <tr>\n",
       "      <th>2275</th>\n",
       "      <td>Tibetan_mastiff</td>\n",
       "      <td>0.058279</td>\n",
       "      <td>True</td>\n",
       "    </tr>\n",
       "    <tr>\n",
       "      <th>2276</th>\n",
       "      <td>Mud_turtle</td>\n",
       "      <td>0.045885</td>\n",
       "      <td>False</td>\n",
       "    </tr>\n",
       "    <tr>\n",
       "      <th>2277</th>\n",
       "      <td>English_springer</td>\n",
       "      <td>0.263788</td>\n",
       "      <td>True</td>\n",
       "    </tr>\n",
       "    <tr>\n",
       "      <th>2278</th>\n",
       "      <td>Rottweiler</td>\n",
       "      <td>0.243682</td>\n",
       "      <td>True</td>\n",
       "    </tr>\n",
       "    <tr>\n",
       "      <th>2279</th>\n",
       "      <td>Redbone</td>\n",
       "      <td>0.360687</td>\n",
       "      <td>True</td>\n",
       "    </tr>\n",
       "    <tr>\n",
       "      <th>2280</th>\n",
       "      <td>Malinois</td>\n",
       "      <td>0.138584</td>\n",
       "      <td>True</td>\n",
       "    </tr>\n",
       "    <tr>\n",
       "      <th>2281</th>\n",
       "      <td>Miniature_pinscher</td>\n",
       "      <td>0.074192</td>\n",
       "      <td>True</td>\n",
       "    </tr>\n",
       "    <tr>\n",
       "      <th>2282</th>\n",
       "      <td>Collie</td>\n",
       "      <td>0.156665</td>\n",
       "      <td>True</td>\n",
       "    </tr>\n",
       "  </tbody>\n",
       "</table>\n",
       "<p>2283 rows × 3 columns</p>\n",
       "</div>"
      ],
      "text/plain": [
       "                         breed  confidence True/False\n",
       "0                        Bagel    0.085851      False\n",
       "1                     Pekinese    0.090647       True\n",
       "2                     Malamute    0.078253       True\n",
       "3           Labrador_retriever    0.168086       True\n",
       "4             English_springer    0.225770       True\n",
       "5                Irish_terrier    0.116317       True\n",
       "6                Border_collie    0.199287       True\n",
       "7                   Eskimo_dog    0.178406       True\n",
       "8                 Irish_setter    0.193054       True\n",
       "9                     Cardigan    0.451038       True\n",
       "10                  Pomeranian    0.013884       True\n",
       "11          Labrador_retriever    0.151317       True\n",
       "12                    Cardigan    0.027356       True\n",
       "13                       Boxer    0.002129       True\n",
       "14          Labrador_retriever    0.013834       True\n",
       "15                      Borzoi    0.194742       True\n",
       "16             Tibetan_mastiff    0.120184       True\n",
       "17          Labrador_retriever    0.184172       True\n",
       "18                  Eskimo_dog    0.166511       True\n",
       "19                         Pug    0.000932       True\n",
       "20                     Redbone    0.087582       True\n",
       "21                   Tow_truck    0.029175      False\n",
       "22         Rhodesian_ridgeback    0.054950       True\n",
       "23                    Sea_lion    0.275645      False\n",
       "24                  Eskimo_dog    0.035029       True\n",
       "25                 Toy_terrier    0.143528       True\n",
       "26              Great_pyrenees    0.186136       True\n",
       "27                  Sports_car    0.139952      False\n",
       "28                   Chihuahua    0.000361       True\n",
       "29                  Shower_cap    0.025286      False\n",
       "...                        ...         ...        ...\n",
       "2253                Barracouta    0.271485      False\n",
       "2254                Bloodhound    0.244220       True\n",
       "2255               Toy_terrier    0.009397       True\n",
       "2256              Afghan_hound    0.259551       True\n",
       "2257                     Skunk    0.002402      False\n",
       "2258            Siberian_husky    0.147655       True\n",
       "2259  Chesapeake_bay_retriever    0.054787       True\n",
       "2260              Newfoundland    0.278407       True\n",
       "2261                     Otter    0.015250      False\n",
       "2262                Toy_poodle    0.063064       True\n",
       "2263               Toy_terrier    0.111884       True\n",
       "2264                      Desk    0.085547      False\n",
       "2265                      Cock    0.033919      False\n",
       "2266              Newfoundland    0.149842       True\n",
       "2267                  Shih-tzu    0.166192       True\n",
       "2268           German_shepherd    0.078260       True\n",
       "2269              Bull_mastiff    0.404722       True\n",
       "2270          English_foxhound    0.175382       True\n",
       "2271         Yorkshire_terrier    0.174201       True\n",
       "2272           Tibetan_mastiff    0.093718       True\n",
       "2273                  Komondor    0.192305       True\n",
       "2274           Shopping_basket    0.014594      False\n",
       "2275           Tibetan_mastiff    0.058279       True\n",
       "2276                Mud_turtle    0.045885      False\n",
       "2277          English_springer    0.263788       True\n",
       "2278                Rottweiler    0.243682       True\n",
       "2279                   Redbone    0.360687       True\n",
       "2280                  Malinois    0.138584       True\n",
       "2281        Miniature_pinscher    0.074192       True\n",
       "2282                    Collie    0.156665       True\n",
       "\n",
       "[2283 rows x 3 columns]"
      ]
     },
     "execution_count": 752,
     "metadata": {},
     "output_type": "execute_result"
    }
   ],
   "source": [
    "d22"
   ]
  },
  {
   "cell_type": "code",
   "execution_count": null,
   "metadata": {},
   "outputs": [],
   "source": []
  },
  {
   "cell_type": "code",
   "execution_count": null,
   "metadata": {},
   "outputs": [],
   "source": []
  },
  {
   "cell_type": "code",
   "execution_count": null,
   "metadata": {},
   "outputs": [],
   "source": []
  },
  {
   "cell_type": "code",
   "execution_count": null,
   "metadata": {},
   "outputs": [],
   "source": []
  }
 ],
 "metadata": {
  "kernelspec": {
   "display_name": "Python [conda env:anaconda3]",
   "language": "python",
   "name": "conda-env-anaconda3-py"
  },
  "language_info": {
   "codemirror_mode": {
    "name": "ipython",
    "version": 3
   },
   "file_extension": ".py",
   "mimetype": "text/x-python",
   "name": "python",
   "nbconvert_exporter": "python",
   "pygments_lexer": "ipython3",
   "version": "3.6.4"
  }
 },
 "nbformat": 4,
 "nbformat_minor": 2
}
